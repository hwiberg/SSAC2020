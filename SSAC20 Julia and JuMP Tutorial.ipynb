{
 "cells": [
  {
   "cell_type": "code",
   "execution_count": 1,
   "metadata": {
    "scrolled": false
   },
   "outputs": [],
   "source": [
    "using CSV\n",
    "using DataFrames"
   ]
  },
  {
   "cell_type": "code",
   "execution_count": 2,
   "metadata": {
    "scrolled": true
   },
   "outputs": [],
   "source": [
    "using JuMP\n",
    "using Cbc"
   ]
  },
  {
   "cell_type": "markdown",
   "metadata": {},
   "source": [
    "## Exploring the Data\n",
    "First, let's load our 2018-2019 player data. This CSV file contains statistics for active US-born players in the 2018-2019 season. We have also added in information about whether each player appeared in the previous Olympics (2016) and the most recent NBA All-Star game as additional measures. \n",
    "\n",
    "Source: https://www.basketball-reference.com/"
   ]
  },
  {
   "cell_type": "code",
   "execution_count": 3,
   "metadata": {
    "scrolled": false
   },
   "outputs": [
    {
     "data": {
      "text/plain": [
       "32-element Array{Symbol,1}:\n",
       " :ID              \n",
       " :Player          \n",
       " :Username        \n",
       " :Pos             \n",
       " :Age             \n",
       " :Tm              \n",
       " :G               \n",
       " :MP              \n",
       " :PER             \n",
       " Symbol(\"TS.\")    \n",
       " :X3PAr           \n",
       " :FTr             \n",
       " Symbol(\"ORB.\")   \n",
       " ⋮                \n",
       " :OWS             \n",
       " :DWS             \n",
       " :WS              \n",
       " :WS_48           \n",
       " :OBPM            \n",
       " :DBPM            \n",
       " :BPM             \n",
       " :VORP            \n",
       " :Olympics2016    \n",
       " :OlympicsFinalist\n",
       " :AllStar         \n",
       " :HighRated       "
      ]
     },
     "execution_count": 3,
     "metadata": {},
     "output_type": "execute_result"
    }
   ],
   "source": [
    "df = CSV.read(\"NBA_data_2018_2019.csv\");\n",
    "names(df)"
   ]
  },
  {
   "cell_type": "markdown",
   "metadata": {},
   "source": [
    "Let's see what this data looks like:"
   ]
  },
  {
   "cell_type": "code",
   "execution_count": 4,
   "metadata": {},
   "outputs": [
    {
     "data": {
      "text/html": [
       "<table class=\"data-frame\"><thead><tr><th></th><th>ID</th><th>Player</th><th>Username</th><th>Pos</th><th>Age</th><th>Tm</th><th>G</th><th>MP</th><th>PER</th></tr><tr><th></th><th>Int64</th><th>String</th><th>String</th><th>String</th><th>Int64</th><th>String</th><th>Int64</th><th>Int64</th><th>Float64</th></tr></thead><tbody><p>10 rows × 32 columns (omitted printing of 23 columns)</p><tr><th>1</th><td>5</td><td>Bam Adebayo</td><td>adebaba01</td><td>C</td><td>21</td><td>MIA</td><td>82</td><td>1913</td><td>17.9</td></tr><tr><th>2</th><td>8</td><td>LaMarcus Aldridge</td><td>aldrila01</td><td>C</td><td>33</td><td>SAS</td><td>81</td><td>2687</td><td>22.9</td></tr><tr><th>3</th><td>11</td><td>Jarrett Allen</td><td>allenja01</td><td>C</td><td>20</td><td>BRK</td><td>80</td><td>2096</td><td>18.5</td></tr><tr><th>4</th><td>13</td><td>Al-Farouq Aminu</td><td>aminual01</td><td>PF</td><td>28</td><td>POR</td><td>81</td><td>2292</td><td>13.2</td></tr><tr><th>5</th><td>20</td><td>Carmelo Anthony</td><td>anthoca01</td><td>PF</td><td>34</td><td>HOU</td><td>10</td><td>294</td><td>10.9</td></tr><tr><th>6</th><td>22</td><td>Ryan Arcidiacono</td><td>arcidry01</td><td>PG</td><td>24</td><td>CHI</td><td>81</td><td>1961</td><td>11.6</td></tr><tr><th>7</th><td>23</td><td>Trevor Ariza</td><td>arizatr01</td><td>SF</td><td>33</td><td>TOT</td><td>69</td><td>2349</td><td>12.0</td></tr><tr><th>8</th><td>24</td><td>D.J. Augustin</td><td>augusdj01</td><td>PG</td><td>31</td><td>ORL</td><td>81</td><td>2269</td><td>15.7</td></tr><tr><th>9</th><td>27</td><td>Marvin Bagley</td><td>baglema01</td><td>PF</td><td>19</td><td>SAC</td><td>62</td><td>1567</td><td>18.9</td></tr><tr><th>10</th><td>33</td><td>Harrison Barnes</td><td>barneha02</td><td>PF-SF</td><td>26</td><td>TOT</td><td>77</td><td>2533</td><td>12.8</td></tr></tbody></table>"
      ],
      "text/latex": [
       "\\begin{tabular}{r|cccccccccc}\n",
       "\t& ID & Player & Username & Pos & Age & Tm & G & MP & PER & \\\\\n",
       "\t\\hline\n",
       "\t& Int64 & String & String & String & Int64 & String & Int64 & Int64 & Float64 & \\\\\n",
       "\t\\hline\n",
       "\t1 & 5 & Bam Adebayo & adebaba01 & C & 21 & MIA & 82 & 1913 & 17.9 & $\\dots$ \\\\\n",
       "\t2 & 8 & LaMarcus Aldridge & aldrila01 & C & 33 & SAS & 81 & 2687 & 22.9 & $\\dots$ \\\\\n",
       "\t3 & 11 & Jarrett Allen & allenja01 & C & 20 & BRK & 80 & 2096 & 18.5 & $\\dots$ \\\\\n",
       "\t4 & 13 & Al-Farouq Aminu & aminual01 & PF & 28 & POR & 81 & 2292 & 13.2 & $\\dots$ \\\\\n",
       "\t5 & 20 & Carmelo Anthony & anthoca01 & PF & 34 & HOU & 10 & 294 & 10.9 & $\\dots$ \\\\\n",
       "\t6 & 22 & Ryan Arcidiacono & arcidry01 & PG & 24 & CHI & 81 & 1961 & 11.6 & $\\dots$ \\\\\n",
       "\t7 & 23 & Trevor Ariza & arizatr01 & SF & 33 & TOT & 69 & 2349 & 12.0 & $\\dots$ \\\\\n",
       "\t8 & 24 & D.J. Augustin & augusdj01 & PG & 31 & ORL & 81 & 2269 & 15.7 & $\\dots$ \\\\\n",
       "\t9 & 27 & Marvin Bagley & baglema01 & PF & 19 & SAC & 62 & 1567 & 18.9 & $\\dots$ \\\\\n",
       "\t10 & 33 & Harrison Barnes & barneha02 & PF-SF & 26 & TOT & 77 & 2533 & 12.8 & $\\dots$ \\\\\n",
       "\\end{tabular}\n"
      ],
      "text/plain": [
       "10×32 DataFrame. Omitted printing of 26 columns\n",
       "│ Row │ ID    │ Player            │ Username  │ Pos    │ Age   │ Tm     │\n",
       "│     │ \u001b[90mInt64\u001b[39m │ \u001b[90mString\u001b[39m            │ \u001b[90mString\u001b[39m    │ \u001b[90mString\u001b[39m │ \u001b[90mInt64\u001b[39m │ \u001b[90mString\u001b[39m │\n",
       "├─────┼───────┼───────────────────┼───────────┼────────┼───────┼────────┤\n",
       "│ 1   │ 5     │ Bam Adebayo       │ adebaba01 │ C      │ 21    │ MIA    │\n",
       "│ 2   │ 8     │ LaMarcus Aldridge │ aldrila01 │ C      │ 33    │ SAS    │\n",
       "│ 3   │ 11    │ Jarrett Allen     │ allenja01 │ C      │ 20    │ BRK    │\n",
       "│ 4   │ 13    │ Al-Farouq Aminu   │ aminual01 │ PF     │ 28    │ POR    │\n",
       "│ 5   │ 20    │ Carmelo Anthony   │ anthoca01 │ PF     │ 34    │ HOU    │\n",
       "│ 6   │ 22    │ Ryan Arcidiacono  │ arcidry01 │ PG     │ 24    │ CHI    │\n",
       "│ 7   │ 23    │ Trevor Ariza      │ arizatr01 │ SF     │ 33    │ TOT    │\n",
       "│ 8   │ 24    │ D.J. Augustin     │ augusdj01 │ PG     │ 31    │ ORL    │\n",
       "│ 9   │ 27    │ Marvin Bagley     │ baglema01 │ PF     │ 19    │ SAC    │\n",
       "│ 10  │ 33    │ Harrison Barnes   │ barneha02 │ PF-SF  │ 26    │ TOT    │"
      ]
     },
     "execution_count": 4,
     "metadata": {},
     "output_type": "execute_result"
    }
   ],
   "source": [
    "first(df,10)"
   ]
  },
  {
   "cell_type": "markdown",
   "metadata": {},
   "source": [
    "## A Simple Model\n",
    "\n",
    "We will build our optimization models using the JuMP package in Julia: http://www.juliaopt.org/JuMP.jl/v0.19.0/"
   ]
  },
  {
   "cell_type": "markdown",
   "metadata": {},
   "source": [
    "First, we have to initialize a model in JuMP using the Model() function. We also tell Julia that we are using the **Cbc** solver. This is an open-source solver that allows us to solve integer optimization problems. Other popular alternatives are **Gurobi** and **CPLEX**, but these require licenses. "
   ]
  },
  {
   "cell_type": "code",
   "execution_count": 5,
   "metadata": {
    "scrolled": true
   },
   "outputs": [
    {
     "data": {
      "text/latex": [
       "$$ \\begin{alignat*}{1}\\text{feasibility}\\\\\n",
       "\\text{Subject to} \\quad\\end{alignat*}\n",
       " $$"
      ],
      "text/plain": [
       "A JuMP Model\n",
       "Feasibility problem with:\n",
       "Variables: 0\n",
       "Model mode: AUTOMATIC\n",
       "CachingOptimizer state: EMPTY_OPTIMIZER\n",
       "Solver name: COIN Branch-and-Cut (Cbc)"
      ]
     },
     "execution_count": 5,
     "metadata": {},
     "output_type": "execute_result"
    }
   ],
   "source": [
    "model = Model(Cbc.Optimizer)"
   ]
  },
  {
   "cell_type": "markdown",
   "metadata": {},
   "source": [
    "### I. Defining the Decision Variables\n",
    "First we need to create our decision variables. Remember, we want to construct variables:\n",
    "\n",
    "$$\n",
    "    x_i=\\left\\{\n",
    "                \\begin{array}{ll}\n",
    "                  1 & \\text{if player $i$ is selected for the team,}\\\\\n",
    "                  0 & \\text{otherwise.}\n",
    "                \\end{array}\n",
    "              \\right.\n",
    "$$\n",
    "\n",
    "These are called **binary** variables since they only take on values between 0 and 1. We need an $x_i$ for all $i=1,\\ldots,N$."
   ]
  },
  {
   "cell_type": "code",
   "execution_count": 7,
   "metadata": {
    "scrolled": false
   },
   "outputs": [
    {
     "data": {
      "text/plain": [
       "200-element Array{VariableRef,1}:\n",
       " x[1]  \n",
       " x[2]  \n",
       " x[3]  \n",
       " x[4]  \n",
       " x[5]  \n",
       " x[6]  \n",
       " x[7]  \n",
       " x[8]  \n",
       " x[9]  \n",
       " x[10] \n",
       " x[11] \n",
       " x[12] \n",
       " x[13] \n",
       " ⋮     \n",
       " x[189]\n",
       " x[190]\n",
       " x[191]\n",
       " x[192]\n",
       " x[193]\n",
       " x[194]\n",
       " x[195]\n",
       " x[196]\n",
       " x[197]\n",
       " x[198]\n",
       " x[199]\n",
       " x[200]"
      ]
     },
     "execution_count": 7,
     "metadata": {},
     "output_type": "execute_result"
    }
   ],
   "source": [
    "N = nrow(df)\n",
    "@variable(model, x[1:N], Bin)"
   ]
  },
  {
   "cell_type": "markdown",
   "metadata": {},
   "source": [
    "### II. Formalizing the Objective\n",
    "\n",
    "We'll start with a basic objective, which is simply to maximize the average Player Efficiency Rating (PER) of the players on the selected team. We'll denote player $i$'s PER as $c_i$. We can then calculate the objective as:\n",
    "\n",
    "$$ \\frac{1}{12} \\sum_{i=1}^{N}(x_i*s_i)$$\n",
    "\n",
    "We can easily formulate this in JuMP:"
   ]
  },
  {
   "cell_type": "code",
   "execution_count": 8,
   "metadata": {},
   "outputs": [],
   "source": [
    "s = df[!,:PER]\n",
    "@objective(model, Max, 1/12*sum(x[i]*s[i] for i=1:N));"
   ]
  },
  {
   "cell_type": "markdown",
   "metadata": {},
   "source": [
    "### III. Constructing the Constraints \n",
    "\n",
    "Now that we have defined our variables and quantified our goal, we need to specify what requirements any team must satisfy. Let's start by just placing a constraint on team size. "
   ]
  },
  {
   "cell_type": "code",
   "execution_count": 9,
   "metadata": {},
   "outputs": [],
   "source": [
    "@constraint(model, sum(x[i] for i=1:N) == 12);"
   ]
  },
  {
   "cell_type": "markdown",
   "metadata": {},
   "source": [
    "### IV. Solving the Model\n",
    "We have specified the three key elements of any mixed-integer optimization model: \n",
    "- Decision Variables\n",
    "- Objective \n",
    "- Feasibility Constraints\n",
    "\n",
    "We're ready to solve the model!"
   ]
  },
  {
   "cell_type": "code",
   "execution_count": 10,
   "metadata": {
    "collapsed": true
   },
   "outputs": [
    {
     "data": {
      "text/latex": [
       "$$ \\begin{alignat*}{1}\\max\\quad & 1.4916666666666665 x_{1} + 1.9083333333333332 x_{2} + 1.5416666666666665 x_{3} + 1.0999999999999999 x_{4} + 0.9083333333333333 x_{5} + 0.9666666666666666 x_{6} + x_{7} + 1.3083333333333331 x_{8} + 1.5749999999999997 x_{9} + 1.0666666666666667 x_{10} + 1.0916666666666666 x_{11} + 1.025 x_{12} + 0.9916666666666667 x_{13} + 1.7333333333333334 x_{14} + 1.1833333333333331 x_{15} + 1.075 x_{16} + 0.9 x_{17} + 0.9833333333333334 x_{18} + 1.6083333333333334 x_{19} + 1.6833333333333331 x_{20} + 0.6333333333333333 x_{21} + 0.9 x_{22} + 1.0916666666666666 x_{23} + 1.4833333333333334 x_{24} + 0.575 x_{25} + 1.125 x_{26} + 1.0666666666666667 x_{27} + 1.75 x_{28} + 0.875 x_{29} + 1.0583333333333331 x_{30} + 1.6833333333333331 x_{31} + 1.8583333333333334 x_{32} + 1.65 x_{33} + 1.075 x_{34} + 1.0083333333333333 x_{35} + 0.9833333333333334 x_{36} + 1.5 x_{37} + 0.6916666666666667 x_{38} + 1.4 x_{39} + 1.8166666666666667 x_{40} + 1.125 x_{41} + 1.3916666666666666 x_{42} + 1.7833333333333332 x_{43} + 1.1333333333333333 x_{44} + 1.0916666666666666 x_{45} + 1.7833333333333332 x_{46} + 0.8666666666666667 x_{47} + 0.9749999999999999 x_{48} + 1.0083333333333333 x_{49} + 0.8499999999999999 x_{50} + 0.95 x_{51} + 2.033333333333333 x_{52} + 2.525 x_{53} + 1.4416666666666667 x_{54} + 1.3333333333333333 x_{55} + 1.6333333333333333 x_{56} + 1.3583333333333334 x_{57} + 0.9 x_{58} + 1.9499999999999997 x_{59} + 2.0166666666666666 x_{60} + 0.9583333333333333 x_{61} + 1.8166666666666667 x_{62} + 0.5333333333333333 x_{63} + 1.0583333333333331 x_{64} + 0.9166666666666666 x_{65} + x_{66} + 1.5083333333333333 x_{67} + 0.8916666666666666 x_{68} + 1.4583333333333333 x_{69} + 1.9416666666666667 x_{70} + 1.4833333333333334 x_{71} + 1.2583333333333333 x_{72} + 1.0166666666666666 x_{73} + 1.15 x_{74} + 0.9 x_{75} + 1.0833333333333333 x_{76} + 1.075 x_{77} + 0.95 x_{78} + 1.2249999999999999 x_{79} + 1.1333333333333333 x_{80} + 1.75 x_{81} + 1.1333333333333333 x_{82} + 2.55 x_{83} + 1.0999999999999999 x_{84} + 1.9499999999999997 x_{85} + 0.8916666666666666 x_{86} + 1.125 x_{87} + 1.4333333333333331 x_{88} + 1.5166666666666666 x_{89} + 1.275 x_{90} + 1.0333333333333332 x_{91} + 0.775 x_{92} + 1.2999999999999998 x_{93} + 1.0083333333333333 x_{94} + 1.6166666666666665 x_{95} + 0.8333333333333333 x_{96} + 1.7249999999999999 x_{97} + 1.025 x_{98} + 1.4499999999999997 x_{99} + 0.8416666666666666 x_{100} + 1.0916666666666666 x_{101} + 1.1166666666666667 x_{102} + 1.0833333333333333 x_{103} + 0.7249999999999999 x_{104} + 0.7833333333333333 x_{105} + 0.8833333333333333 x_{106} + 0.9416666666666667 x_{107} + 2.1333333333333333 x_{108} + 0.7999999999999999 x_{109} + 1.1666666666666665 x_{110} + 1.1416666666666666 x_{111} + 1.5833333333333333 x_{112} + 1.5 x_{113} + 1.8416666666666668 x_{114} + 0.9916666666666667 x_{115} + 1.1083333333333334 x_{116} + 0.7249999999999999 x_{117} + 0.9333333333333332 x_{118} + 1.1666666666666665 x_{119} + 1.4416666666666667 x_{120} + 1.5583333333333331 x_{121} + 1.125 x_{122} + 2.15 x_{123} + 1.3166666666666667 x_{124} + 1.9749999999999999 x_{125} + 1.125 x_{126} + 0.9749999999999999 x_{127} + 1.4416666666666667 x_{128} + 1.2166666666666666 x_{129} + 1.325 x_{130} + 1.625 x_{131} + 1.375 x_{132} + 0.8583333333333334 x_{133} + 1.4166666666666665 x_{134} + 1.1166666666666667 x_{135} + 0.9666666666666666 x_{136} + 1.8166666666666667 x_{137} + 0.7833333333333333 x_{138} + 0.9333333333333332 x_{139} + 1.375 x_{140} + 0.7 x_{141} + 1.4916666666666665 x_{142} + 1.4333333333333331 x_{143} + 0.9833333333333334 x_{144} + 1.1833333333333331 x_{145} + 1.3499999999999999 x_{146} + 0.9 x_{147} + 1.55 x_{148} + 1.6083333333333334 x_{149} + 0.7999999999999999 x_{150} + 0.75 x_{151} + 1.4666666666666668 x_{152} + 1.2666666666666666 x_{153} + 1.1416666666666666 x_{154} + 1.2916666666666665 x_{155} + 0.6749999999999999 x_{156} + 1.6416666666666666 x_{157} + 1.4833333333333334 x_{158} + 1.1083333333333334 x_{159} + 1.75 x_{160} + 1.2583333333333333 x_{161} + 1.1666666666666665 x_{162} + 0.6416666666666666 x_{163} + 1.8333333333333333 x_{164} + 1.2833333333333332 x_{165} + 1.075 x_{166} + 1.6166666666666665 x_{167} + 1.8249999999999997 x_{168} + 0.7166666666666666 x_{169} + 0.6916666666666667 x_{170} + x_{171} + 0.9166666666666666 x_{172} + 0.7583333333333333 x_{173} + 1.0916666666666666 x_{174} + 0.8916666666666666 x_{175} + 0.9833333333333334 x_{176} + 1.2583333333333333 x_{177} + 0.7083333333333333 x_{178} + 1.3833333333333333 x_{179} + 0.43333333333333335 x_{180} + 0.7166666666666666 x_{181} + 2.1916666666666664 x_{182} + 1.0166666666666666 x_{183} + 0.7666666666666666 x_{184} + 0.9666666666666666 x_{185} + 1.5 x_{186} + 1.1416666666666666 x_{187} + 1.1583333333333332 x_{188} + 1.3166666666666667 x_{189} + 1.8083333333333331 x_{190} + 0.5833333333333333 x_{191} + 1.7583333333333333 x_{192} + 1.2333333333333334 x_{193} + 1.9583333333333333 x_{194} + 1.7666666666666666 x_{195} + 1.0499999999999998 x_{196} + 1.0666666666666667 x_{197} + 1.2916666666666665 x_{198} + 1.3499999999999999 x_{199} + 1.4166666666666665 x_{200}\\\\\n",
       "\\text{Subject to} \\quad & x_{1} + x_{2} + x_{3} + x_{4} + x_{5} + x_{6} + x_{7} + x_{8} + x_{9} + x_{10} + x_{11} + x_{12} + x_{13} + x_{14} + x_{15} + x_{16} + x_{17} + x_{18} + x_{19} + x_{20} + x_{21} + x_{22} + x_{23} + x_{24} + x_{25} + x_{26} + x_{27} + x_{28} + x_{29} + x_{30} + x_{31} + x_{32} + x_{33} + x_{34} + x_{35} + x_{36} + x_{37} + x_{38} + x_{39} + x_{40} + x_{41} + x_{42} + x_{43} + x_{44} + x_{45} + x_{46} + x_{47} + x_{48} + x_{49} + x_{50} + x_{51} + x_{52} + x_{53} + x_{54} + x_{55} + x_{56} + x_{57} + x_{58} + x_{59} + x_{60} + x_{61} + x_{62} + x_{63} + x_{64} + x_{65} + x_{66} + x_{67} + x_{68} + x_{69} + x_{70} + x_{71} + x_{72} + x_{73} + x_{74} + x_{75} + x_{76} + x_{77} + x_{78} + x_{79} + x_{80} + x_{81} + x_{82} + x_{83} + x_{84} + x_{85} + x_{86} + x_{87} + x_{88} + x_{89} + x_{90} + x_{91} + x_{92} + x_{93} + x_{94} + x_{95} + x_{96} + x_{97} + x_{98} + x_{99} + x_{100} + x_{101} + x_{102} + x_{103} + x_{104} + x_{105} + x_{106} + x_{107} + x_{108} + x_{109} + x_{110} + x_{111} + x_{112} + x_{113} + x_{114} + x_{115} + x_{116} + x_{117} + x_{118} + x_{119} + x_{120} + x_{121} + x_{122} + x_{123} + x_{124} + x_{125} + x_{126} + x_{127} + x_{128} + x_{129} + x_{130} + x_{131} + x_{132} + x_{133} + x_{134} + x_{135} + x_{136} + x_{137} + x_{138} + x_{139} + x_{140} + x_{141} + x_{142} + x_{143} + x_{144} + x_{145} + x_{146} + x_{147} + x_{148} + x_{149} + x_{150} + x_{151} + x_{152} + x_{153} + x_{154} + x_{155} + x_{156} + x_{157} + x_{158} + x_{159} + x_{160} + x_{161} + x_{162} + x_{163} + x_{164} + x_{165} + x_{166} + x_{167} + x_{168} + x_{169} + x_{170} + x_{171} + x_{172} + x_{173} + x_{174} + x_{175} + x_{176} + x_{177} + x_{178} + x_{179} + x_{180} + x_{181} + x_{182} + x_{183} + x_{184} + x_{185} + x_{186} + x_{187} + x_{188} + x_{189} + x_{190} + x_{191} + x_{192} + x_{193} + x_{194} + x_{195} + x_{196} + x_{197} + x_{198} + x_{199} + x_{200} = 12.0\\\\\n",
       " & x_{1} binary\\\\\n",
       " & x_{2} binary\\\\\n",
       " & x_{3} binary\\\\\n",
       " & x_{4} binary\\\\\n",
       " & x_{5} binary\\\\\n",
       " & x_{6} binary\\\\\n",
       " & x_{7} binary\\\\\n",
       " & x_{8} binary\\\\\n",
       " & x_{9} binary\\\\\n",
       " & x_{10} binary\\\\\n",
       " & x_{11} binary\\\\\n",
       " & x_{12} binary\\\\\n",
       " & x_{13} binary\\\\\n",
       " & x_{14} binary\\\\\n",
       " & x_{15} binary\\\\\n",
       " & x_{16} binary\\\\\n",
       " & x_{17} binary\\\\\n",
       " & x_{18} binary\\\\\n",
       " & x_{19} binary\\\\\n",
       " & x_{20} binary\\\\\n",
       " & x_{21} binary\\\\\n",
       " & x_{22} binary\\\\\n",
       " & x_{23} binary\\\\\n",
       " & x_{24} binary\\\\\n",
       " & x_{25} binary\\\\\n",
       " & x_{26} binary\\\\\n",
       " & x_{27} binary\\\\\n",
       " & x_{28} binary\\\\\n",
       " & x_{29} binary\\\\\n",
       " & x_{30} binary\\\\\n",
       " & x_{31} binary\\\\\n",
       " & x_{32} binary\\\\\n",
       " & x_{33} binary\\\\\n",
       " & x_{34} binary\\\\\n",
       " & x_{35} binary\\\\\n",
       " & x_{36} binary\\\\\n",
       " & x_{37} binary\\\\\n",
       " & x_{38} binary\\\\\n",
       " & x_{39} binary\\\\\n",
       " & x_{40} binary\\\\\n",
       " & x_{41} binary\\\\\n",
       " & x_{42} binary\\\\\n",
       " & x_{43} binary\\\\\n",
       " & x_{44} binary\\\\\n",
       " & x_{45} binary\\\\\n",
       " & x_{46} binary\\\\\n",
       " & x_{47} binary\\\\\n",
       " & x_{48} binary\\\\\n",
       " & x_{49} binary\\\\\n",
       " & x_{50} binary\\\\\n",
       " & x_{51} binary\\\\\n",
       " & x_{52} binary\\\\\n",
       " & x_{53} binary\\\\\n",
       " & x_{54} binary\\\\\n",
       " & x_{55} binary\\\\\n",
       " & x_{56} binary\\\\\n",
       " & x_{57} binary\\\\\n",
       " & x_{58} binary\\\\\n",
       " & x_{59} binary\\\\\n",
       " & x_{60} binary\\\\\n",
       " & x_{61} binary\\\\\n",
       " & x_{62} binary\\\\\n",
       " & x_{63} binary\\\\\n",
       " & x_{64} binary\\\\\n",
       " & x_{65} binary\\\\\n",
       " & x_{66} binary\\\\\n",
       " & x_{67} binary\\\\\n",
       " & x_{68} binary\\\\\n",
       " & x_{69} binary\\\\\n",
       " & x_{70} binary\\\\\n",
       " & x_{71} binary\\\\\n",
       " & x_{72} binary\\\\\n",
       " & x_{73} binary\\\\\n",
       " & x_{74} binary\\\\\n",
       " & x_{75} binary\\\\\n",
       " & x_{76} binary\\\\\n",
       " & x_{77} binary\\\\\n",
       " & x_{78} binary\\\\\n",
       " & x_{79} binary\\\\\n",
       " & x_{80} binary\\\\\n",
       " & x_{81} binary\\\\\n",
       " & x_{82} binary\\\\\n",
       " & x_{83} binary\\\\\n",
       " & x_{84} binary\\\\\n",
       " & x_{85} binary\\\\\n",
       " & x_{86} binary\\\\\n",
       " & x_{87} binary\\\\\n",
       " & x_{88} binary\\\\\n",
       " & x_{89} binary\\\\\n",
       " & x_{90} binary\\\\\n",
       " & x_{91} binary\\\\\n",
       " & x_{92} binary\\\\\n",
       " & x_{93} binary\\\\\n",
       " & x_{94} binary\\\\\n",
       " & x_{95} binary\\\\\n",
       " & x_{96} binary\\\\\n",
       " & x_{97} binary\\\\\n",
       " & x_{98} binary\\\\\n",
       " & x_{99} binary\\\\\n",
       " & x_{100} binary\\\\\n",
       " & x_{101} binary\\\\\n",
       " & x_{102} binary\\\\\n",
       " & x_{103} binary\\\\\n",
       " & x_{104} binary\\\\\n",
       " & x_{105} binary\\\\\n",
       " & x_{106} binary\\\\\n",
       " & x_{107} binary\\\\\n",
       " & x_{108} binary\\\\\n",
       " & x_{109} binary\\\\\n",
       " & x_{110} binary\\\\\n",
       " & x_{111} binary\\\\\n",
       " & x_{112} binary\\\\\n",
       " & x_{113} binary\\\\\n",
       " & x_{114} binary\\\\\n",
       " & x_{115} binary\\\\\n",
       " & x_{116} binary\\\\\n",
       " & x_{117} binary\\\\\n",
       " & x_{118} binary\\\\\n",
       " & x_{119} binary\\\\\n",
       " & x_{120} binary\\\\\n",
       " & x_{121} binary\\\\\n",
       " & x_{122} binary\\\\\n",
       " & x_{123} binary\\\\\n",
       " & x_{124} binary\\\\\n",
       " & x_{125} binary\\\\\n",
       " & x_{126} binary\\\\\n",
       " & x_{127} binary\\\\\n",
       " & x_{128} binary\\\\\n",
       " & x_{129} binary\\\\\n",
       " & x_{130} binary\\\\\n",
       " & x_{131} binary\\\\\n",
       " & x_{132} binary\\\\\n",
       " & x_{133} binary\\\\\n",
       " & x_{134} binary\\\\\n",
       " & x_{135} binary\\\\\n",
       " & x_{136} binary\\\\\n",
       " & x_{137} binary\\\\\n",
       " & x_{138} binary\\\\\n",
       " & x_{139} binary\\\\\n",
       " & x_{140} binary\\\\\n",
       " & x_{141} binary\\\\\n",
       " & x_{142} binary\\\\\n",
       " & x_{143} binary\\\\\n",
       " & x_{144} binary\\\\\n",
       " & x_{145} binary\\\\\n",
       " & x_{146} binary\\\\\n",
       " & x_{147} binary\\\\\n",
       " & x_{148} binary\\\\\n",
       " & x_{149} binary\\\\\n",
       " & x_{150} binary\\\\\n",
       " & x_{151} binary\\\\\n",
       " & x_{152} binary\\\\\n",
       " & x_{153} binary\\\\\n",
       " & x_{154} binary\\\\\n",
       " & x_{155} binary\\\\\n",
       " & x_{156} binary\\\\\n",
       " & x_{157} binary\\\\\n",
       " & x_{158} binary\\\\\n",
       " & x_{159} binary\\\\\n",
       " & x_{160} binary\\\\\n",
       " & x_{161} binary\\\\\n",
       " & x_{162} binary\\\\\n",
       " & x_{163} binary\\\\\n",
       " & x_{164} binary\\\\\n",
       " & x_{165} binary\\\\\n",
       " & x_{166} binary\\\\\n",
       " & x_{167} binary\\\\\n",
       " & x_{168} binary\\\\\n",
       " & x_{169} binary\\\\\n",
       " & x_{170} binary\\\\\n",
       " & x_{171} binary\\\\\n",
       " & x_{172} binary\\\\\n",
       " & x_{173} binary\\\\\n",
       " & x_{174} binary\\\\\n",
       " & x_{175} binary\\\\\n",
       " & x_{176} binary\\\\\n",
       " & x_{177} binary\\\\\n",
       " & x_{178} binary\\\\\n",
       " & x_{179} binary\\\\\n",
       " & x_{180} binary\\\\\n",
       " & x_{181} binary\\\\\n",
       " & x_{182} binary\\\\\n",
       " & x_{183} binary\\\\\n",
       " & x_{184} binary\\\\\n",
       " & x_{185} binary\\\\\n",
       " & x_{186} binary\\\\\n",
       " & x_{187} binary\\\\\n",
       " & x_{188} binary\\\\\n",
       " & x_{189} binary\\\\\n",
       " & x_{190} binary\\\\\n",
       " & x_{191} binary\\\\\n",
       " & x_{192} binary\\\\\n",
       " & x_{193} binary\\\\\n",
       " & x_{194} binary\\\\\n",
       " & x_{195} binary\\\\\n",
       " & x_{196} binary\\\\\n",
       " & x_{197} binary\\\\\n",
       " & x_{198} binary\\\\\n",
       " & x_{199} binary\\\\\n",
       " & x_{200} binary\\\\\n",
       "\\end{alignat*}\n",
       " $$"
      ],
      "text/plain": [
       "A JuMP Model\n",
       "Maximization problem with:\n",
       "Variables: 200\n",
       "Objective function type: GenericAffExpr{Float64,VariableRef}\n",
       "`GenericAffExpr{Float64,VariableRef}`-in-`MathOptInterface.EqualTo{Float64}`: 1 constraint\n",
       "`VariableRef`-in-`MathOptInterface.ZeroOne`: 200 constraints\n",
       "Model mode: AUTOMATIC\n",
       "CachingOptimizer state: EMPTY_OPTIMIZER\n",
       "Solver name: COIN Branch-and-Cut (Cbc)\n",
       "Names registered in the model: x"
      ]
     },
     "execution_count": 10,
     "metadata": {},
     "output_type": "execute_result"
    }
   ],
   "source": [
    "model"
   ]
  },
  {
   "cell_type": "code",
   "execution_count": 11,
   "metadata": {},
   "outputs": [
    {
     "name": "stdout",
     "output_type": "stream",
     "text": [
      "Welcome to the CBC MILP Solver \n",
      "Version: 2.10.3 \n",
      "Build Date: Oct  7 2019 \n",
      "\n",
      "command line - Cbc_C_Interface -solve -quit (default strategy 1)\n",
      "Continuous objective value is 25.375 - 0.00 seconds\n",
      "Cgl0004I processed model has 1 rows, 200 columns (200 integer (200 of which binary)) and 200 elements\n",
      "Cbc0012I Integer solution of -25.375 found by DiveCoefficient after 0 iterations and 0 nodes (0.00 seconds)\n",
      "Cbc0001I Search completed - best objective -25.375, took 0 iterations and 0 nodes (0.00 seconds)\n",
      "Cbc0035I Maximum depth 0, 0 variables fixed on reduced cost\n",
      "Cuts at root node changed objective from -25.375 to -25.375\n",
      "Probing was tried 0 times and created 0 cuts of which 0 were active after adding rounds of cuts (0.000 seconds)\n",
      "Gomory was tried 0 times and created 0 cuts of which 0 were active after adding rounds of cuts (0.000 seconds)\n",
      "Knapsack was tried 0 times and created 0 cuts of which 0 were active after adding rounds of cuts (0.000 seconds)\n",
      "Clique was tried 0 times and created 0 cuts of which 0 were active after adding rounds of cuts (0.000 seconds)\n",
      "MixedIntegerRounding2 was tried 0 times and created 0 cuts of which 0 were active after adding rounds of cuts (0.000 seconds)\n",
      "FlowCover was tried 0 times and created 0 cuts of which 0 were active after adding rounds of cuts (0.000 seconds)\n",
      "TwoMirCuts was tried 0 times and created 0 cuts of which 0 were active after adding rounds of cuts (0.000 seconds)\n",
      "ZeroHalf was tried 0 times and created 0 cuts of which 0 were active after adding rounds of cuts (0.000 seconds)\n",
      "\n",
      "Result - Optimal solution found\n",
      "\n",
      "Objective value:                25.37500000\n",
      "Enumerated nodes:               0\n",
      "Total iterations:               0\n",
      "Time (CPU seconds):             0.00\n",
      "Time (Wallclock seconds):       0.00\n",
      "\n",
      "Total time (CPU seconds):       0.00   (Wallclock seconds):       0.00\n",
      "\n"
     ]
    }
   ],
   "source": [
    "optimize!(model);"
   ]
  },
  {
   "cell_type": "markdown",
   "metadata": {},
   "source": [
    "Let's see what our results look like: we can look at the values of our decision variables $x_1,\\ldots,x_N$ to see which indices were set to 1. These indices correspond to the players that were selected for the team."
   ]
  },
  {
   "cell_type": "code",
   "execution_count": 12,
   "metadata": {},
   "outputs": [],
   "source": [
    "selection_indices = value.(x);"
   ]
  },
  {
   "cell_type": "code",
   "execution_count": 14,
   "metadata": {
    "scrolled": false
   },
   "outputs": [
    {
     "data": {
      "text/plain": [
       "12-element Array{String,1}:\n",
       " \"Stephen Curry\"     \n",
       " \"Anthony Davis\"     \n",
       " \"Andre Drummond\"    \n",
       " \"Kevin Durant\"      \n",
       " \"Paul George\"       \n",
       " \"James Harden\"      \n",
       " \"Montrezl Harrell\"  \n",
       " \"LeBron James\"      \n",
       " \"Kawhi Leonard\"     \n",
       " \"Damian Lillard\"    \n",
       " \"Karl-Anthony Towns\"\n",
       " \"Hassan Whiteside\"  "
      ]
     },
     "execution_count": 14,
     "metadata": {},
     "output_type": "execute_result"
    }
   ],
   "source": [
    "selected_players = df[selection_indices.==1,:Player]"
   ]
  },
  {
   "cell_type": "code",
   "execution_count": 15,
   "metadata": {},
   "outputs": [
    {
     "data": {
      "text/plain": [
       "25.374999999999996"
      ]
     },
     "execution_count": 15,
     "metadata": {},
     "output_type": "execute_result"
    }
   ],
   "source": [
    "objective_value(model)"
   ]
  },
  {
   "cell_type": "markdown",
   "metadata": {},
   "source": [
    "How well does this match the list of finalists for the Olympics? "
   ]
  },
  {
   "cell_type": "code",
   "execution_count": 16,
   "metadata": {},
   "outputs": [
    {
     "data": {
      "text/html": [
       "<table class=\"data-frame\"><thead><tr><th></th><th>Player</th><th>Pos</th><th>AllStar</th><th>Olympics2016</th><th>OlympicsFinalist</th></tr><tr><th></th><th>String</th><th>String</th><th>Int64</th><th>Int64</th><th>Int64</th></tr></thead><tbody><p>12 rows × 5 columns</p><tr><th>1</th><td>Stephen Curry</td><td>PG</td><td>1</td><td>0</td><td>1</td></tr><tr><th>2</th><td>Anthony Davis</td><td>C</td><td>1</td><td>0</td><td>1</td></tr><tr><th>3</th><td>Andre Drummond</td><td>C</td><td>0</td><td>0</td><td>1</td></tr><tr><th>4</th><td>Kevin Durant</td><td>SF</td><td>1</td><td>1</td><td>1</td></tr><tr><th>5</th><td>Paul George</td><td>SF</td><td>1</td><td>1</td><td>1</td></tr><tr><th>6</th><td>James Harden</td><td>PG</td><td>1</td><td>0</td><td>1</td></tr><tr><th>7</th><td>Montrezl Harrell</td><td>C</td><td>0</td><td>0</td><td>1</td></tr><tr><th>8</th><td>LeBron James</td><td>SF</td><td>1</td><td>0</td><td>1</td></tr><tr><th>9</th><td>Kawhi Leonard</td><td>SF</td><td>1</td><td>0</td><td>1</td></tr><tr><th>10</th><td>Damian Lillard</td><td>PG</td><td>1</td><td>0</td><td>1</td></tr><tr><th>11</th><td>Karl-Anthony Towns</td><td>C</td><td>1</td><td>0</td><td>0</td></tr><tr><th>12</th><td>Hassan Whiteside</td><td>C</td><td>0</td><td>0</td><td>0</td></tr></tbody></table>"
      ],
      "text/latex": [
       "\\begin{tabular}{r|ccccc}\n",
       "\t& Player & Pos & AllStar & Olympics2016 & OlympicsFinalist\\\\\n",
       "\t\\hline\n",
       "\t& String & String & Int64 & Int64 & Int64\\\\\n",
       "\t\\hline\n",
       "\t1 & Stephen Curry & PG & 1 & 0 & 1 \\\\\n",
       "\t2 & Anthony Davis & C & 1 & 0 & 1 \\\\\n",
       "\t3 & Andre Drummond & C & 0 & 0 & 1 \\\\\n",
       "\t4 & Kevin Durant & SF & 1 & 1 & 1 \\\\\n",
       "\t5 & Paul George & SF & 1 & 1 & 1 \\\\\n",
       "\t6 & James Harden & PG & 1 & 0 & 1 \\\\\n",
       "\t7 & Montrezl Harrell & C & 0 & 0 & 1 \\\\\n",
       "\t8 & LeBron James & SF & 1 & 0 & 1 \\\\\n",
       "\t9 & Kawhi Leonard & SF & 1 & 0 & 1 \\\\\n",
       "\t10 & Damian Lillard & PG & 1 & 0 & 1 \\\\\n",
       "\t11 & Karl-Anthony Towns & C & 1 & 0 & 0 \\\\\n",
       "\t12 & Hassan Whiteside & C & 0 & 0 & 0 \\\\\n",
       "\\end{tabular}\n"
      ],
      "text/plain": [
       "12×5 DataFrame. Omitted printing of 1 columns\n",
       "│ Row │ Player             │ Pos    │ AllStar │ Olympics2016 │\n",
       "│     │ \u001b[90mString\u001b[39m             │ \u001b[90mString\u001b[39m │ \u001b[90mInt64\u001b[39m   │ \u001b[90mInt64\u001b[39m        │\n",
       "├─────┼────────────────────┼────────┼─────────┼──────────────┤\n",
       "│ 1   │ Stephen Curry      │ PG     │ 1       │ 0            │\n",
       "│ 2   │ Anthony Davis      │ C      │ 1       │ 0            │\n",
       "│ 3   │ Andre Drummond     │ C      │ 0       │ 0            │\n",
       "│ 4   │ Kevin Durant       │ SF     │ 1       │ 1            │\n",
       "│ 5   │ Paul George        │ SF     │ 1       │ 1            │\n",
       "│ 6   │ James Harden       │ PG     │ 1       │ 0            │\n",
       "│ 7   │ Montrezl Harrell   │ C      │ 0       │ 0            │\n",
       "│ 8   │ LeBron James       │ SF     │ 1       │ 0            │\n",
       "│ 9   │ Kawhi Leonard      │ SF     │ 1       │ 0            │\n",
       "│ 10  │ Damian Lillard     │ PG     │ 1       │ 0            │\n",
       "│ 11  │ Karl-Anthony Towns │ C      │ 1       │ 0            │\n",
       "│ 12  │ Hassan Whiteside   │ C      │ 0       │ 0            │"
      ]
     },
     "execution_count": 16,
     "metadata": {},
     "output_type": "execute_result"
    }
   ],
   "source": [
    "df[selection_indices.==1,[:Player,:Pos,:AllStar,:Olympics2016,:OlympicsFinalist]]"
   ]
  },
  {
   "cell_type": "markdown",
   "metadata": {},
   "source": [
    "## Making a More Realistic Team\n",
    "\n",
    "While this team is technically legal under Olympic regulations, it's not enough for us just to look at PER! We want to make sure that we have enough players of each position to fill out the team. We can add a few constraints to make a more useful team. "
   ]
  },
  {
   "cell_type": "code",
   "execution_count": 17,
   "metadata": {},
   "outputs": [],
   "source": [
    "## Our original model\n",
    "model2 = Model(Cbc.Optimizer)\n",
    "@variable(model2, x[1:N], Bin)\n",
    "@objective(model2, Max, 1/12*sum(x[i]*df[i,:PER] for i=1:N));\n",
    "@constraint(model2, sum(x[i] for i=1:N) == 12);"
   ]
  },
  {
   "cell_type": "markdown",
   "metadata": {},
   "source": [
    "#### Position Requirements\n",
    "\n",
    "Suppose we want at least 4 guards, 4 forwards, and 3 centers. We first define indicators for each player's position. For example, to indicate which players are forwards, we define:\n",
    "\n",
    "\n",
    "$$\n",
    "    f_i=\\left\\{\n",
    "                \\begin{array}{ll}\n",
    "                  1 & \\text{if player $i$ is a forward,}\\\\\n",
    "                  0 & \\text{otherwise.}\n",
    "                \\end{array}\n",
    "              \\right.\n",
    "$$\n",
    "\n",
    "We can create similar variables $c_i$ and $g_i$ for center and guard positions. Note that this is **data**; these are not decision variables."
   ]
  },
  {
   "cell_type": "code",
   "execution_count": 18,
   "metadata": {},
   "outputs": [
    {
     "name": "stdout",
     "output_type": "stream",
     "text": [
      "Center Count: 33\n",
      "Forward Count: 67\n",
      "Guard Count: 96\n"
     ]
    }
   ],
   "source": [
    "c = ifelse.(df[!,:Pos].==\"C\",1,0);\n",
    "f = ifelse.((df[!,:Pos].==\"PF\").|(df[!,:Pos].==\"SF\"),1,0);\n",
    "g = ifelse.((df[!,:Pos].==\"PG\").|(df[!,:Pos].==\"SG\"),1,0);\n",
    "\n",
    "println(\"Center Count: \", sum(c))\n",
    "println(\"Forward Count: \", sum(f))\n",
    "println(\"Guard Count: \", sum(g))"
   ]
  },
  {
   "cell_type": "markdown",
   "metadata": {},
   "source": [
    "We can create constraints by summing the position indicator over the players who are selected for the team, like we did with the objective:\n",
    "\n",
    "$$ \\sum_{i=1}^{N}(f_i*x_i) \\geq 4$$\n",
    "\n",
    "We can do the same for the center and guard positions as well."
   ]
  },
  {
   "cell_type": "code",
   "execution_count": 19,
   "metadata": {
    "scrolled": true
   },
   "outputs": [],
   "source": [
    "# Forward constraint\n",
    "@constraint(model2, sum(f[i]*x[i] for i=1:N) >= 4);\n",
    "\n",
    "# Center constraint\n",
    "@constraint(model2, sum(c[i]*x[i] for i=1:N) >= 3);\n",
    "\n",
    "# Guard constraint\n",
    "@constraint(model2, sum(g[i]*x[i] for i=1:N) >= 4);"
   ]
  },
  {
   "cell_type": "markdown",
   "metadata": {},
   "source": [
    "#### Defensive Ability\n",
    "We want to make sure that our team has good average defensive ability. One (imperfect!) way to measure this is using Defensive Box Plus/Minus (DBPM). We can require that the average DBPM of the chosen team is at least +1. \n",
    "\n",
    "\n",
    "$$ \\frac{1}{12} \\sum_{i=1}^{N}(d_i*x_i) \\geq 1$$\n",
    "\n",
    "where $d_i$ is player $i$'s DBPM. "
   ]
  },
  {
   "cell_type": "code",
   "execution_count": 20,
   "metadata": {},
   "outputs": [],
   "source": [
    "d = df[!,:DBPM]\n",
    "@constraint(model2, 1/12 * sum(d[i]*x[i] for i=1:N) >= 1.0);"
   ]
  },
  {
   "cell_type": "markdown",
   "metadata": {},
   "source": [
    "#### Experience Constraints\n",
    "We also want to make sure our team has enough Olympics experience: let's add a constraint that at least 3 selected players were on the 2016 Olympic team.\n",
    "\n",
    "We use a similar syntax as before:\n",
    "\n",
    "$$ \\sum_{i=1}^{N}(o_i*x_i) \\geq 3 $$\n",
    "\n",
    "where $o_i = 1$ if player $i$ was on the 2016 Olympic team, and 0 otherwise. \n"
   ]
  },
  {
   "cell_type": "code",
   "execution_count": 21,
   "metadata": {
    "scrolled": true
   },
   "outputs": [],
   "source": [
    "o = df[!,:Olympics2016]\n",
    "@constraint(model2, sum(o[i]*x[i] for i=1:N) >= 3);"
   ]
  },
  {
   "cell_type": "markdown",
   "metadata": {},
   "source": [
    "Let's solve our new model."
   ]
  },
  {
   "cell_type": "code",
   "execution_count": 22,
   "metadata": {},
   "outputs": [],
   "source": [
    "set_silent(model2)\n",
    "optimize!(model2)"
   ]
  },
  {
   "cell_type": "code",
   "execution_count": 25,
   "metadata": {
    "scrolled": false
   },
   "outputs": [
    {
     "data": {
      "text/plain": [
       "12-element Array{String,1}:\n",
       " \"Andre Drummond\"    \n",
       " \"Anthony Davis\"     \n",
       " \"Damian Lillard\"    \n",
       " \"Hassan Whiteside\"  \n",
       " \"James Harden\"      \n",
       " \"Jimmy Butler\"      \n",
       " \"Karl-Anthony Towns\"\n",
       " \"Kawhi Leonard\"     \n",
       " \"Kevin Durant\"      \n",
       " \"LeBron James\"      \n",
       " \"Paul George\"       \n",
       " \"Stephen Curry\"     "
      ]
     },
     "execution_count": 25,
     "metadata": {},
     "output_type": "execute_result"
    }
   ],
   "source": [
    "selected_players2 = sort(df[value.(x).==1,:Player])"
   ]
  },
  {
   "cell_type": "markdown",
   "metadata": {},
   "source": [
    "If we compare to the original player list, we see that we have removed Montrezl Harrell (Center) and added Jimmy Butler (Forward)."
   ]
  },
  {
   "cell_type": "code",
   "execution_count": 26,
   "metadata": {
    "scrolled": true
   },
   "outputs": [
    {
     "data": {
      "text/plain": [
       "12-element Array{String,1}:\n",
       " \"Andre Drummond\"    \n",
       " \"Anthony Davis\"     \n",
       " \"Damian Lillard\"    \n",
       " \"Hassan Whiteside\"  \n",
       " \"James Harden\"      \n",
       " \"Karl-Anthony Towns\"\n",
       " \"Kawhi Leonard\"     \n",
       " \"Kevin Durant\"      \n",
       " \"LeBron James\"      \n",
       " \"Montrezl Harrell\"  \n",
       " \"Paul George\"       \n",
       " \"Stephen Curry\"     "
      ]
     },
     "execution_count": 26,
     "metadata": {},
     "output_type": "execute_result"
    }
   ],
   "source": [
    "sort(selected_players)"
   ]
  },
  {
   "cell_type": "markdown",
   "metadata": {},
   "source": [
    "How good is our new model, according to our **objective function**?"
   ]
  },
  {
   "cell_type": "code",
   "execution_count": 27,
   "metadata": {},
   "outputs": [
    {
     "data": {
      "text/plain": [
       "25.28333333333333"
      ]
     },
     "execution_count": 27,
     "metadata": {},
     "output_type": "execute_result"
    }
   ],
   "source": [
    "objective_value(model2)"
   ]
  },
  {
   "cell_type": "code",
   "execution_count": 28,
   "metadata": {},
   "outputs": [
    {
     "data": {
      "text/plain": [
       "25.374999999999996"
      ]
     },
     "execution_count": 28,
     "metadata": {},
     "output_type": "execute_result"
    }
   ],
   "source": [
    "objective_value(model)"
   ]
  },
  {
   "cell_type": "markdown",
   "metadata": {},
   "source": [
    "This is < 0.1 worse than our original solution: even with these new constraints, we haven't lost much."
   ]
  },
  {
   "cell_type": "markdown",
   "metadata": {},
   "source": [
    "## Variations of Our Basic Model\n"
   ]
  },
  {
   "cell_type": "markdown",
   "metadata": {},
   "source": [
    "Before we experiment further, we can put our full model into a **function** that will let us easily modify the model for different objectives and datasets."
   ]
  },
  {
   "cell_type": "code",
   "execution_count": 29,
   "metadata": {},
   "outputs": [
    {
     "data": {
      "text/plain": [
       "create_roster (generic function with 1 method)"
      ]
     },
     "execution_count": 29,
     "metadata": {},
     "output_type": "execute_result"
    }
   ],
   "source": [
    "function create_roster(df, objective_metric)\n",
    "    m = Model(Cbc.Optimizer)\n",
    "    set_silent(m)\n",
    "    \n",
    "    # Define variables\n",
    "    N = nrow(df)\n",
    "    @variable(m, x[1:N], Bin)\n",
    "    \n",
    "    # Define relevant data columns\n",
    "    c = ifelse.(df[!,:Pos].==\"C\",1,0);\n",
    "    f = ifelse.((df[!,:Pos].==\"PF\").|(df[!,:Pos].==\"SF\"),1,0);\n",
    "    g = ifelse.((df[!,:Pos].==\"PG\").|(df[!,:Pos].==\"SG\"),1,0);\n",
    "    d = df[!,:DBPM];\n",
    "    o = df[!,:Olympics2016];\n",
    "    \n",
    "    # Pull in data for our chosen objective\n",
    "    s = df[!,objective_metric];\n",
    "    \n",
    "    # Objective\n",
    "    @objective(m, Max, 1/12 * sum(x[i]*s[i] for i=1:N))\n",
    "    \n",
    "    # Team size constraint\n",
    "    @constraint(m, sum(x[i] for i=1:N) == 12);\n",
    "    \n",
    "    # Position constraints\n",
    "    @constraint(m, sum(f[i]*x[i] for i=1:N) >= 4);\n",
    "    @constraint(m, sum(c[i]*x[i] for i=1:N) >= 3);\n",
    "    @constraint(m, sum(g[i]*x[i] for i=1:N) >= 4);\n",
    "\n",
    "    # Experience constraint\n",
    "    @constraint(m, sum(o[i]*x[i] for i=1:N) >= 3);\n",
    "\n",
    "    # Defensive ability constraint\n",
    "    @constraint(m, 1/12 * sum(d[i]*x[i] for i=1:N) >= 1);\n",
    "    \n",
    "    optimize!(m)\n",
    "    \n",
    "    players = sort(df[value.(x).>0.99,:Player])\n",
    "    return(objective_value(m), players)\n",
    "end"
   ]
  },
  {
   "cell_type": "markdown",
   "metadata": {},
   "source": [
    "Now, it is easy for us to build models for different objective functions. We simply have to specify our dataset of interest and the column of the metric that we want to maximize."
   ]
  },
  {
   "cell_type": "markdown",
   "metadata": {},
   "source": [
    "#### Alternative Objective Functions\n",
    "\n",
    "We chose to optimize average PER, but we could have chosen other metrics too. How does our team composition change when we use other measures of player performance? "
   ]
  },
  {
   "cell_type": "code",
   "execution_count": 30,
   "metadata": {
    "scrolled": true
   },
   "outputs": [
    {
     "data": {
      "text/plain": [
       "(25.28333333333333, [\"Andre Drummond\", \"Anthony Davis\", \"Damian Lillard\", \"Hassan Whiteside\", \"James Harden\", \"Jimmy Butler\", \"Karl-Anthony Towns\", \"Kawhi Leonard\", \"Kevin Durant\", \"LeBron James\", \"Paul George\", \"Stephen Curry\"])"
      ]
     },
     "execution_count": 30,
     "metadata": {},
     "output_type": "execute_result"
    }
   ],
   "source": [
    "obj_per, players_per = create_roster(df,:PER)"
   ]
  },
  {
   "cell_type": "code",
   "execution_count": 31,
   "metadata": {},
   "outputs": [
    {
     "data": {
      "text/plain": [
       "(6.541666666666666, [\"Anthony Davis\", \"Damian Lillard\", \"James Harden\", \"Jimmy Butler\", \"Karl-Anthony Towns\", \"Kawhi Leonard\", \"Kevin Durant\", \"LeBron James\", \"Mitchell Robinson\", \"Paul George\", \"Russell Westbrook\", \"Stephen Curry\"])"
      ]
     },
     "execution_count": 31,
     "metadata": {},
     "output_type": "execute_result"
    }
   ],
   "source": [
    "obj_bpm, players_bpm = create_roster(df,:BPM)"
   ]
  },
  {
   "cell_type": "code",
   "execution_count": 33,
   "metadata": {},
   "outputs": [
    {
     "data": {
      "text/plain": [
       "(0.2099166666666667, [\"Anthony Davis\", \"Damian Lillard\", \"Derrick Favors\", \"James Harden\", \"Jimmy Butler\", \"Kawhi Leonard\", \"Kevin Durant\", \"LeBron James\", \"Mitchell Robinson\", \"Nerlens Noel\", \"Paul George\", \"Stephen Curry\"])"
      ]
     },
     "execution_count": 33,
     "metadata": {},
     "output_type": "execute_result"
    }
   ],
   "source": [
    "obj_ws48, players_ws48 = create_roster(df,:WS_48)"
   ]
  },
  {
   "cell_type": "markdown",
   "metadata": {},
   "source": [
    "#### How different is the playoff perspective?  \n",
    "\n",
    "Now let's repeat the model (with the original PER objective), but using data from the past two playoff seasons instead. We're looking at average playoff statistics for all active US-born NBA players."
   ]
  },
  {
   "cell_type": "code",
   "execution_count": 34,
   "metadata": {
    "scrolled": true
   },
   "outputs": [
    {
     "data": {
      "text/html": [
       "<table class=\"data-frame\"><thead><tr><th></th><th>ID</th><th>Player</th><th>Username</th><th>From</th><th>To</th><th>Tm</th><th>Lg</th><th>WS</th><th>G</th></tr><tr><th></th><th>Int64</th><th>String</th><th>String</th><th>Int64</th><th>Int64</th><th>String</th><th>String</th><th>Float64</th><th>Int64</th></tr></thead><tbody><p>10 rows × 36 columns (omitted printing of 27 columns)</p><tr><th>1</th><td>1</td><td>LeBron James</td><td>jamesle01</td><td>2017</td><td>2018</td><td>CLE</td><td>NBA</td><td>9.4</td><td>40</td></tr><tr><th>2</th><td>2</td><td>Kevin Durant</td><td>duranke01</td><td>2017</td><td>2019</td><td>GSW</td><td>NBA</td><td>9.0</td><td>48</td></tr><tr><th>3</th><td>3</td><td>Stephen Curry</td><td>curryst01</td><td>2017</td><td>2019</td><td>GSW</td><td>NBA</td><td>8.8</td><td>54</td></tr><tr><th>4</th><td>4</td><td>Kawhi Leonard</td><td>leonaka01</td><td>2017</td><td>2019</td><td>TOT</td><td>NBA</td><td>7.7</td><td>36</td></tr><tr><th>5</th><td>5</td><td>Draymond Green</td><td>greendr01</td><td>2017</td><td>2019</td><td>GSW</td><td>NBA</td><td>7.2</td><td>60</td></tr><tr><th>6</th><td>6</td><td>James Harden</td><td>hardeja01</td><td>2017</td><td>2019</td><td>HOU</td><td>NBA</td><td>5.1</td><td>39</td></tr><tr><th>7</th><td>7</td><td>Kyle Lowry</td><td>lowryky01</td><td>2017</td><td>2019</td><td>TOR</td><td>NBA</td><td>4.7</td><td>42</td></tr><tr><th>8</th><td>8</td><td>Chris Paul</td><td>paulch01</td><td>2017</td><td>2019</td><td>TOT</td><td>NBA</td><td>4.5</td><td>33</td></tr><tr><th>9</th><td>9</td><td>Andre Iguodala</td><td>iguodan01</td><td>2017</td><td>2019</td><td>GSW</td><td>NBA</td><td>3.8</td><td>52</td></tr><tr><th>10</th><td>10</td><td>Klay Thompson</td><td>thompkl01</td><td>2017</td><td>2019</td><td>GSW</td><td>NBA</td><td>3.6</td><td>59</td></tr></tbody></table>"
      ],
      "text/latex": [
       "\\begin{tabular}{r|cccccccccc}\n",
       "\t& ID & Player & Username & From & To & Tm & Lg & WS & G & \\\\\n",
       "\t\\hline\n",
       "\t& Int64 & String & String & Int64 & Int64 & String & String & Float64 & Int64 & \\\\\n",
       "\t\\hline\n",
       "\t1 & 1 & LeBron James & jamesle01 & 2017 & 2018 & CLE & NBA & 9.4 & 40 & $\\dots$ \\\\\n",
       "\t2 & 2 & Kevin Durant & duranke01 & 2017 & 2019 & GSW & NBA & 9.0 & 48 & $\\dots$ \\\\\n",
       "\t3 & 3 & Stephen Curry & curryst01 & 2017 & 2019 & GSW & NBA & 8.8 & 54 & $\\dots$ \\\\\n",
       "\t4 & 4 & Kawhi Leonard & leonaka01 & 2017 & 2019 & TOT & NBA & 7.7 & 36 & $\\dots$ \\\\\n",
       "\t5 & 5 & Draymond Green & greendr01 & 2017 & 2019 & GSW & NBA & 7.2 & 60 & $\\dots$ \\\\\n",
       "\t6 & 6 & James Harden & hardeja01 & 2017 & 2019 & HOU & NBA & 5.1 & 39 & $\\dots$ \\\\\n",
       "\t7 & 7 & Kyle Lowry & lowryky01 & 2017 & 2019 & TOR & NBA & 4.7 & 42 & $\\dots$ \\\\\n",
       "\t8 & 8 & Chris Paul & paulch01 & 2017 & 2019 & TOT & NBA & 4.5 & 33 & $\\dots$ \\\\\n",
       "\t9 & 9 & Andre Iguodala & iguodan01 & 2017 & 2019 & GSW & NBA & 3.8 & 52 & $\\dots$ \\\\\n",
       "\t10 & 10 & Klay Thompson & thompkl01 & 2017 & 2019 & GSW & NBA & 3.6 & 59 & $\\dots$ \\\\\n",
       "\\end{tabular}\n"
      ],
      "text/plain": [
       "10×36 DataFrame. Omitted printing of 29 columns\n",
       "│ Row │ ID    │ Player         │ Username  │ From  │ To    │ Tm     │ Lg     │\n",
       "│     │ \u001b[90mInt64\u001b[39m │ \u001b[90mString\u001b[39m         │ \u001b[90mString\u001b[39m    │ \u001b[90mInt64\u001b[39m │ \u001b[90mInt64\u001b[39m │ \u001b[90mString\u001b[39m │ \u001b[90mString\u001b[39m │\n",
       "├─────┼───────┼────────────────┼───────────┼───────┼───────┼────────┼────────┤\n",
       "│ 1   │ 1     │ LeBron James   │ jamesle01 │ 2017  │ 2018  │ CLE    │ NBA    │\n",
       "│ 2   │ 2     │ Kevin Durant   │ duranke01 │ 2017  │ 2019  │ GSW    │ NBA    │\n",
       "│ 3   │ 3     │ Stephen Curry  │ curryst01 │ 2017  │ 2019  │ GSW    │ NBA    │\n",
       "│ 4   │ 4     │ Kawhi Leonard  │ leonaka01 │ 2017  │ 2019  │ TOT    │ NBA    │\n",
       "│ 5   │ 5     │ Draymond Green │ greendr01 │ 2017  │ 2019  │ GSW    │ NBA    │\n",
       "│ 6   │ 6     │ James Harden   │ hardeja01 │ 2017  │ 2019  │ HOU    │ NBA    │\n",
       "│ 7   │ 7     │ Kyle Lowry     │ lowryky01 │ 2017  │ 2019  │ TOR    │ NBA    │\n",
       "│ 8   │ 8     │ Chris Paul     │ paulch01  │ 2017  │ 2019  │ TOT    │ NBA    │\n",
       "│ 9   │ 9     │ Andre Iguodala │ iguodan01 │ 2017  │ 2019  │ GSW    │ NBA    │\n",
       "│ 10  │ 10    │ Klay Thompson  │ thompkl01 │ 2017  │ 2019  │ GSW    │ NBA    │"
      ]
     },
     "execution_count": 34,
     "metadata": {},
     "output_type": "execute_result"
    }
   ],
   "source": [
    "df_playoffs = CSV.read(\"NBA_data_playoffs_2017_2019.csv\");\n",
    "first(df_playoffs,10)"
   ]
  },
  {
   "cell_type": "markdown",
   "metadata": {},
   "source": [
    "We can leverage the same function, but now we want to speficy a new dataset, **df_playoffs**, rather than the original dataset **df**."
   ]
  },
  {
   "cell_type": "code",
   "execution_count": 35,
   "metadata": {},
   "outputs": [
    {
     "data": {
      "text/plain": [
       "(30.866666666666667, [\"Anthony Davis\", \"Chris Paul\", \"Draymond Green\", \"JaVale McGee\", \"James Harden\", \"Jimmy Butler\", \"Kawhi Leonard\", \"Kevin Durant\", \"Larry Nance\", \"LeBron James\", \"Malcolm Delaney\", \"Stephen Curry\"])"
      ]
     },
     "execution_count": 35,
     "metadata": {},
     "output_type": "execute_result"
    }
   ],
   "source": [
    "obj_playoff, players_playoff = create_roster(df_playoffs,:PER)"
   ]
  },
  {
   "cell_type": "markdown",
   "metadata": {},
   "source": [
    "We can create a table to compare how much these different lists overlap. We'll do this using the `join` function, which is similar to SQL syntax."
   ]
  },
  {
   "cell_type": "code",
   "execution_count": 36,
   "metadata": {
    "scrolled": false
   },
   "outputs": [
    {
     "data": {
      "text/html": [
       "<table class=\"data-frame\"><thead><tr><th></th><th>Player</th><th>PER</th><th>BPM</th><th>WS_48</th><th>PER_PLAYOFF</th></tr><tr><th></th><th>String</th><th>Int64⍰</th><th>Int64⍰</th><th>Int64⍰</th><th>Int64⍰</th></tr></thead><tbody><p>21 rows × 5 columns</p><tr><th>1</th><td>Andre Drummond</td><td>1</td><td>missing</td><td>missing</td><td>missing</td></tr><tr><th>2</th><td>Anthony Davis</td><td>1</td><td>1</td><td>1</td><td>1</td></tr><tr><th>3</th><td>Chris Paul</td><td>missing</td><td>missing</td><td>missing</td><td>1</td></tr><tr><th>4</th><td>Damian Lillard</td><td>1</td><td>1</td><td>1</td><td>missing</td></tr><tr><th>5</th><td>Derrick Favors</td><td>missing</td><td>missing</td><td>1</td><td>missing</td></tr><tr><th>6</th><td>Draymond Green</td><td>missing</td><td>missing</td><td>missing</td><td>1</td></tr><tr><th>7</th><td>Hassan Whiteside</td><td>1</td><td>missing</td><td>missing</td><td>missing</td></tr><tr><th>8</th><td>JaVale McGee</td><td>missing</td><td>missing</td><td>missing</td><td>1</td></tr><tr><th>9</th><td>James Harden</td><td>1</td><td>1</td><td>1</td><td>1</td></tr><tr><th>10</th><td>Jimmy Butler</td><td>1</td><td>1</td><td>1</td><td>1</td></tr><tr><th>11</th><td>Karl-Anthony Towns</td><td>1</td><td>1</td><td>missing</td><td>missing</td></tr><tr><th>12</th><td>Kawhi Leonard</td><td>1</td><td>1</td><td>1</td><td>1</td></tr><tr><th>13</th><td>Kevin Durant</td><td>1</td><td>1</td><td>1</td><td>1</td></tr><tr><th>14</th><td>Larry Nance</td><td>missing</td><td>missing</td><td>missing</td><td>1</td></tr><tr><th>15</th><td>LeBron James</td><td>1</td><td>1</td><td>1</td><td>1</td></tr><tr><th>16</th><td>Malcolm Delaney</td><td>missing</td><td>missing</td><td>missing</td><td>1</td></tr><tr><th>17</th><td>Mitchell Robinson</td><td>missing</td><td>1</td><td>1</td><td>missing</td></tr><tr><th>18</th><td>Nerlens Noel</td><td>missing</td><td>missing</td><td>1</td><td>missing</td></tr><tr><th>19</th><td>Paul George</td><td>1</td><td>1</td><td>1</td><td>missing</td></tr><tr><th>20</th><td>Russell Westbrook</td><td>missing</td><td>1</td><td>missing</td><td>missing</td></tr><tr><th>21</th><td>Stephen Curry</td><td>1</td><td>1</td><td>1</td><td>1</td></tr></tbody></table>"
      ],
      "text/latex": [
       "\\begin{tabular}{r|ccccc}\n",
       "\t& Player & PER & BPM & WS\\_48 & PER\\_PLAYOFF\\\\\n",
       "\t\\hline\n",
       "\t& String & Int64⍰ & Int64⍰ & Int64⍰ & Int64⍰\\\\\n",
       "\t\\hline\n",
       "\t1 & Andre Drummond & 1 &  &  &  \\\\\n",
       "\t2 & Anthony Davis & 1 & 1 & 1 & 1 \\\\\n",
       "\t3 & Chris Paul &  &  &  & 1 \\\\\n",
       "\t4 & Damian Lillard & 1 & 1 & 1 &  \\\\\n",
       "\t5 & Derrick Favors &  &  & 1 &  \\\\\n",
       "\t6 & Draymond Green &  &  &  & 1 \\\\\n",
       "\t7 & Hassan Whiteside & 1 &  &  &  \\\\\n",
       "\t8 & JaVale McGee &  &  &  & 1 \\\\\n",
       "\t9 & James Harden & 1 & 1 & 1 & 1 \\\\\n",
       "\t10 & Jimmy Butler & 1 & 1 & 1 & 1 \\\\\n",
       "\t11 & Karl-Anthony Towns & 1 & 1 &  &  \\\\\n",
       "\t12 & Kawhi Leonard & 1 & 1 & 1 & 1 \\\\\n",
       "\t13 & Kevin Durant & 1 & 1 & 1 & 1 \\\\\n",
       "\t14 & Larry Nance &  &  &  & 1 \\\\\n",
       "\t15 & LeBron James & 1 & 1 & 1 & 1 \\\\\n",
       "\t16 & Malcolm Delaney &  &  &  & 1 \\\\\n",
       "\t17 & Mitchell Robinson &  & 1 & 1 &  \\\\\n",
       "\t18 & Nerlens Noel &  &  & 1 &  \\\\\n",
       "\t19 & Paul George & 1 & 1 & 1 &  \\\\\n",
       "\t20 & Russell Westbrook &  & 1 &  &  \\\\\n",
       "\t21 & Stephen Curry & 1 & 1 & 1 & 1 \\\\\n",
       "\\end{tabular}\n"
      ],
      "text/plain": [
       "21×5 DataFrame\n",
       "│ Row │ Player             │ PER     │ BPM     │ WS_48   │ PER_PLAYOFF │\n",
       "│     │ \u001b[90mString\u001b[39m             │ \u001b[90mInt64⍰\u001b[39m  │ \u001b[90mInt64⍰\u001b[39m  │ \u001b[90mInt64⍰\u001b[39m  │ \u001b[90mInt64⍰\u001b[39m      │\n",
       "├─────┼────────────────────┼─────────┼─────────┼─────────┼─────────────┤\n",
       "│ 1   │ Andre Drummond     │ 1       │ \u001b[90mmissing\u001b[39m │ \u001b[90mmissing\u001b[39m │ \u001b[90mmissing\u001b[39m     │\n",
       "│ 2   │ Anthony Davis      │ 1       │ 1       │ 1       │ 1           │\n",
       "│ 3   │ Chris Paul         │ \u001b[90mmissing\u001b[39m │ \u001b[90mmissing\u001b[39m │ \u001b[90mmissing\u001b[39m │ 1           │\n",
       "│ 4   │ Damian Lillard     │ 1       │ 1       │ 1       │ \u001b[90mmissing\u001b[39m     │\n",
       "│ 5   │ Derrick Favors     │ \u001b[90mmissing\u001b[39m │ \u001b[90mmissing\u001b[39m │ 1       │ \u001b[90mmissing\u001b[39m     │\n",
       "│ 6   │ Draymond Green     │ \u001b[90mmissing\u001b[39m │ \u001b[90mmissing\u001b[39m │ \u001b[90mmissing\u001b[39m │ 1           │\n",
       "│ 7   │ Hassan Whiteside   │ 1       │ \u001b[90mmissing\u001b[39m │ \u001b[90mmissing\u001b[39m │ \u001b[90mmissing\u001b[39m     │\n",
       "│ 8   │ JaVale McGee       │ \u001b[90mmissing\u001b[39m │ \u001b[90mmissing\u001b[39m │ \u001b[90mmissing\u001b[39m │ 1           │\n",
       "│ 9   │ James Harden       │ 1       │ 1       │ 1       │ 1           │\n",
       "│ 10  │ Jimmy Butler       │ 1       │ 1       │ 1       │ 1           │\n",
       "│ 11  │ Karl-Anthony Towns │ 1       │ 1       │ \u001b[90mmissing\u001b[39m │ \u001b[90mmissing\u001b[39m     │\n",
       "│ 12  │ Kawhi Leonard      │ 1       │ 1       │ 1       │ 1           │\n",
       "│ 13  │ Kevin Durant       │ 1       │ 1       │ 1       │ 1           │\n",
       "│ 14  │ Larry Nance        │ \u001b[90mmissing\u001b[39m │ \u001b[90mmissing\u001b[39m │ \u001b[90mmissing\u001b[39m │ 1           │\n",
       "│ 15  │ LeBron James       │ 1       │ 1       │ 1       │ 1           │\n",
       "│ 16  │ Malcolm Delaney    │ \u001b[90mmissing\u001b[39m │ \u001b[90mmissing\u001b[39m │ \u001b[90mmissing\u001b[39m │ 1           │\n",
       "│ 17  │ Mitchell Robinson  │ \u001b[90mmissing\u001b[39m │ 1       │ 1       │ \u001b[90mmissing\u001b[39m     │\n",
       "│ 18  │ Nerlens Noel       │ \u001b[90mmissing\u001b[39m │ \u001b[90mmissing\u001b[39m │ 1       │ \u001b[90mmissing\u001b[39m     │\n",
       "│ 19  │ Paul George        │ 1       │ 1       │ 1       │ \u001b[90mmissing\u001b[39m     │\n",
       "│ 20  │ Russell Westbrook  │ \u001b[90mmissing\u001b[39m │ 1       │ \u001b[90mmissing\u001b[39m │ \u001b[90mmissing\u001b[39m     │\n",
       "│ 21  │ Stephen Curry      │ 1       │ 1       │ 1       │ 1           │"
      ]
     },
     "execution_count": 36,
     "metadata": {},
     "output_type": "execute_result"
    }
   ],
   "source": [
    "player_compare = join(\n",
    "    DataFrame(Player = players_per, PER = 1), \n",
    "    DataFrame(Player = players_bpm, BPM = 1),\n",
    "    DataFrame(Player = players_ws48, WS_48 = 1), \n",
    "    DataFrame(Player = players_playoff, PER_PLAYOFF = 1),\n",
    "    kind = :outer, on = :Player)\n",
    "\n",
    "sort(player_compare)"
   ]
  },
  {
   "cell_type": "markdown",
   "metadata": {},
   "source": [
    "Finally, we can also add a column comparing our lists to the true list of Olympic Finalists for 2020.   "
   ]
  },
  {
   "cell_type": "code",
   "execution_count": 37,
   "metadata": {},
   "outputs": [
    {
     "data": {
      "text/html": [
       "<table class=\"data-frame\"><thead><tr><th></th><th>Player</th><th>PER</th><th>BPM</th><th>WS_48</th><th>PER_PLAYOFF</th><th>OlympicsFinalist</th></tr><tr><th></th><th>String</th><th>Int64⍰</th><th>Int64⍰</th><th>Int64⍰</th><th>Int64⍰</th><th>Int64⍰</th></tr></thead><tbody><p>21 rows × 6 columns</p><tr><th>1</th><td>Andre Drummond</td><td>1</td><td>missing</td><td>missing</td><td>missing</td><td>1</td></tr><tr><th>2</th><td>Anthony Davis</td><td>1</td><td>1</td><td>1</td><td>1</td><td>1</td></tr><tr><th>3</th><td>Chris Paul</td><td>missing</td><td>missing</td><td>missing</td><td>1</td><td>1</td></tr><tr><th>4</th><td>Damian Lillard</td><td>1</td><td>1</td><td>1</td><td>missing</td><td>1</td></tr><tr><th>5</th><td>Derrick Favors</td><td>missing</td><td>missing</td><td>1</td><td>missing</td><td>missing</td></tr><tr><th>6</th><td>Draymond Green</td><td>missing</td><td>missing</td><td>missing</td><td>1</td><td>1</td></tr><tr><th>7</th><td>Hassan Whiteside</td><td>1</td><td>missing</td><td>missing</td><td>missing</td><td>missing</td></tr><tr><th>8</th><td>JaVale McGee</td><td>missing</td><td>missing</td><td>missing</td><td>1</td><td>1</td></tr><tr><th>9</th><td>James Harden</td><td>1</td><td>1</td><td>1</td><td>1</td><td>1</td></tr><tr><th>10</th><td>Jimmy Butler</td><td>1</td><td>1</td><td>1</td><td>1</td><td>1</td></tr><tr><th>11</th><td>Karl-Anthony Towns</td><td>1</td><td>1</td><td>missing</td><td>missing</td><td>missing</td></tr><tr><th>12</th><td>Kawhi Leonard</td><td>1</td><td>1</td><td>1</td><td>1</td><td>1</td></tr><tr><th>13</th><td>Kevin Durant</td><td>1</td><td>1</td><td>1</td><td>1</td><td>1</td></tr><tr><th>14</th><td>Larry Nance</td><td>missing</td><td>missing</td><td>missing</td><td>1</td><td>missing</td></tr><tr><th>15</th><td>LeBron James</td><td>1</td><td>1</td><td>1</td><td>1</td><td>1</td></tr><tr><th>16</th><td>Malcolm Delaney</td><td>missing</td><td>missing</td><td>missing</td><td>1</td><td>missing</td></tr><tr><th>17</th><td>Mitchell Robinson</td><td>missing</td><td>1</td><td>1</td><td>missing</td><td>missing</td></tr><tr><th>18</th><td>Nerlens Noel</td><td>missing</td><td>missing</td><td>1</td><td>missing</td><td>missing</td></tr><tr><th>19</th><td>Paul George</td><td>1</td><td>1</td><td>1</td><td>missing</td><td>1</td></tr><tr><th>20</th><td>Russell Westbrook</td><td>missing</td><td>1</td><td>missing</td><td>missing</td><td>1</td></tr><tr><th>21</th><td>Stephen Curry</td><td>1</td><td>1</td><td>1</td><td>1</td><td>1</td></tr></tbody></table>"
      ],
      "text/latex": [
       "\\begin{tabular}{r|cccccc}\n",
       "\t& Player & PER & BPM & WS\\_48 & PER\\_PLAYOFF & OlympicsFinalist\\\\\n",
       "\t\\hline\n",
       "\t& String & Int64⍰ & Int64⍰ & Int64⍰ & Int64⍰ & Int64⍰\\\\\n",
       "\t\\hline\n",
       "\t1 & Andre Drummond & 1 &  &  &  & 1 \\\\\n",
       "\t2 & Anthony Davis & 1 & 1 & 1 & 1 & 1 \\\\\n",
       "\t3 & Chris Paul &  &  &  & 1 & 1 \\\\\n",
       "\t4 & Damian Lillard & 1 & 1 & 1 &  & 1 \\\\\n",
       "\t5 & Derrick Favors &  &  & 1 &  &  \\\\\n",
       "\t6 & Draymond Green &  &  &  & 1 & 1 \\\\\n",
       "\t7 & Hassan Whiteside & 1 &  &  &  &  \\\\\n",
       "\t8 & JaVale McGee &  &  &  & 1 & 1 \\\\\n",
       "\t9 & James Harden & 1 & 1 & 1 & 1 & 1 \\\\\n",
       "\t10 & Jimmy Butler & 1 & 1 & 1 & 1 & 1 \\\\\n",
       "\t11 & Karl-Anthony Towns & 1 & 1 &  &  &  \\\\\n",
       "\t12 & Kawhi Leonard & 1 & 1 & 1 & 1 & 1 \\\\\n",
       "\t13 & Kevin Durant & 1 & 1 & 1 & 1 & 1 \\\\\n",
       "\t14 & Larry Nance &  &  &  & 1 &  \\\\\n",
       "\t15 & LeBron James & 1 & 1 & 1 & 1 & 1 \\\\\n",
       "\t16 & Malcolm Delaney &  &  &  & 1 &  \\\\\n",
       "\t17 & Mitchell Robinson &  & 1 & 1 &  &  \\\\\n",
       "\t18 & Nerlens Noel &  &  & 1 &  &  \\\\\n",
       "\t19 & Paul George & 1 & 1 & 1 &  & 1 \\\\\n",
       "\t20 & Russell Westbrook &  & 1 &  &  & 1 \\\\\n",
       "\t21 & Stephen Curry & 1 & 1 & 1 & 1 & 1 \\\\\n",
       "\\end{tabular}\n"
      ],
      "text/plain": [
       "21×6 DataFrame. Omitted printing of 1 columns\n",
       "│ Row │ Player             │ PER     │ BPM     │ WS_48   │ PER_PLAYOFF │\n",
       "│     │ \u001b[90mString\u001b[39m             │ \u001b[90mInt64⍰\u001b[39m  │ \u001b[90mInt64⍰\u001b[39m  │ \u001b[90mInt64⍰\u001b[39m  │ \u001b[90mInt64⍰\u001b[39m      │\n",
       "├─────┼────────────────────┼─────────┼─────────┼─────────┼─────────────┤\n",
       "│ 1   │ Andre Drummond     │ 1       │ \u001b[90mmissing\u001b[39m │ \u001b[90mmissing\u001b[39m │ \u001b[90mmissing\u001b[39m     │\n",
       "│ 2   │ Anthony Davis      │ 1       │ 1       │ 1       │ 1           │\n",
       "│ 3   │ Chris Paul         │ \u001b[90mmissing\u001b[39m │ \u001b[90mmissing\u001b[39m │ \u001b[90mmissing\u001b[39m │ 1           │\n",
       "│ 4   │ Damian Lillard     │ 1       │ 1       │ 1       │ \u001b[90mmissing\u001b[39m     │\n",
       "│ 5   │ Derrick Favors     │ \u001b[90mmissing\u001b[39m │ \u001b[90mmissing\u001b[39m │ 1       │ \u001b[90mmissing\u001b[39m     │\n",
       "│ 6   │ Draymond Green     │ \u001b[90mmissing\u001b[39m │ \u001b[90mmissing\u001b[39m │ \u001b[90mmissing\u001b[39m │ 1           │\n",
       "│ 7   │ Hassan Whiteside   │ 1       │ \u001b[90mmissing\u001b[39m │ \u001b[90mmissing\u001b[39m │ \u001b[90mmissing\u001b[39m     │\n",
       "│ 8   │ JaVale McGee       │ \u001b[90mmissing\u001b[39m │ \u001b[90mmissing\u001b[39m │ \u001b[90mmissing\u001b[39m │ 1           │\n",
       "│ 9   │ James Harden       │ 1       │ 1       │ 1       │ 1           │\n",
       "│ 10  │ Jimmy Butler       │ 1       │ 1       │ 1       │ 1           │\n",
       "│ 11  │ Karl-Anthony Towns │ 1       │ 1       │ \u001b[90mmissing\u001b[39m │ \u001b[90mmissing\u001b[39m     │\n",
       "│ 12  │ Kawhi Leonard      │ 1       │ 1       │ 1       │ 1           │\n",
       "│ 13  │ Kevin Durant       │ 1       │ 1       │ 1       │ 1           │\n",
       "│ 14  │ Larry Nance        │ \u001b[90mmissing\u001b[39m │ \u001b[90mmissing\u001b[39m │ \u001b[90mmissing\u001b[39m │ 1           │\n",
       "│ 15  │ LeBron James       │ 1       │ 1       │ 1       │ 1           │\n",
       "│ 16  │ Malcolm Delaney    │ \u001b[90mmissing\u001b[39m │ \u001b[90mmissing\u001b[39m │ \u001b[90mmissing\u001b[39m │ 1           │\n",
       "│ 17  │ Mitchell Robinson  │ \u001b[90mmissing\u001b[39m │ 1       │ 1       │ \u001b[90mmissing\u001b[39m     │\n",
       "│ 18  │ Nerlens Noel       │ \u001b[90mmissing\u001b[39m │ \u001b[90mmissing\u001b[39m │ 1       │ \u001b[90mmissing\u001b[39m     │\n",
       "│ 19  │ Paul George        │ 1       │ 1       │ 1       │ \u001b[90mmissing\u001b[39m     │\n",
       "│ 20  │ Russell Westbrook  │ \u001b[90mmissing\u001b[39m │ 1       │ \u001b[90mmissing\u001b[39m │ \u001b[90mmissing\u001b[39m     │\n",
       "│ 21  │ Stephen Curry      │ 1       │ 1       │ 1       │ 1           │"
      ]
     },
     "execution_count": 37,
     "metadata": {},
     "output_type": "execute_result"
    }
   ],
   "source": [
    "# Pull a dataset of the olympic finalists\n",
    "olympics_finalists = unique(df[df[!,:OlympicsFinalist].==1,[:Player,:OlympicsFinalist]])\n",
    "\n",
    "sort(join(player_compare, olympics_finalists, on = :Player, kind = :left))"
   ]
  },
  {
   "cell_type": "markdown",
   "metadata": {},
   "source": [
    "7 players (Anthony Davis, James Harden, Jimmy Butler, Kawhi Leonard, Kevin Durant, Lebron James, and Stephen Curry) are chosen in every variation of our model. Certain players only appear when we look at playoff statistics (e.g. Chris Paul, Draymond Green), while others look better when we focus on the regular season (e.g. Paul George, Damian Lillard)."
   ]
  }
 ],
 "metadata": {
  "kernelspec": {
   "display_name": "Julia 1.3.1",
   "language": "julia",
   "name": "julia-1.3"
  },
  "language_info": {
   "file_extension": ".jl",
   "mimetype": "application/julia",
   "name": "julia",
   "version": "1.3.1"
  }
 },
 "nbformat": 4,
 "nbformat_minor": 2
}
