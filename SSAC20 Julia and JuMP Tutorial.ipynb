{
 "cells": [
  {
   "cell_type": "code",
   "execution_count": null,
   "metadata": {
    "scrolled": false
   },
   "outputs": [],
   "source": [
    "using CSV\n",
    "using DataFrames"
   ]
  },
  {
   "cell_type": "code",
   "execution_count": null,
   "metadata": {},
   "outputs": [],
   "source": [
    "using JuMP\n",
    "using Cbc"
   ]
  },
  {
   "cell_type": "markdown",
   "metadata": {},
   "source": [
    "## Exploring the Data\n",
    "First, let's load our 2018-2019 player data. This CSV file contains statistics for US-born players in the 2018-2019 season.\n",
    "\n",
    "Source: https://www.basketball-reference.com/"
   ]
  },
  {
   "cell_type": "code",
   "execution_count": null,
   "metadata": {},
   "outputs": [],
   "source": [
    "df = CSV.read(\"NBA_data_2018_2019.csv\");\n",
    "first(df,10)"
   ]
  },
  {
   "cell_type": "markdown",
   "metadata": {},
   "source": [
    "## A Simple Model\n",
    "\n",
    "We will build our optimization models using the JuMP package in Julia: http://www.juliaopt.org/JuMP.jl/v0.19.0/"
   ]
  },
  {
   "cell_type": "markdown",
   "metadata": {},
   "source": [
    "First, we have to initialize a model in JuMP using the Model() function. We also tell Julia that we are using the **Cbc** solver. This is an open-sources solver that allows us to solve integer optimization problems. Other popular alternatives are **Gurobi** and **CPLEX**, but these require licenses. "
   ]
  },
  {
   "cell_type": "code",
   "execution_count": null,
   "metadata": {
    "scrolled": false
   },
   "outputs": [],
   "source": [
    "model = Model(Cbc.Optimizer)"
   ]
  },
  {
   "cell_type": "markdown",
   "metadata": {},
   "source": [
    "### I. Defining the Decision Variables\n",
    "First we need to create our decision variables. Remember, we want to construct variables:\n",
    "\n",
    "$$\n",
    "    x_i=\\left\\{\n",
    "                \\begin{array}{ll}\n",
    "                  1 & \\text{if player $i$ is selected for the team,}\\\\\n",
    "                  0 & \\text{otherwise.}\n",
    "                \\end{array}\n",
    "              \\right.\n",
    "$$\n",
    "\n",
    "These are called **binary** variables since they only take on values between 0 and 1. We need an $x_i$ for all $i=1,\\ldots,N$."
   ]
  },
  {
   "cell_type": "code",
   "execution_count": null,
   "metadata": {},
   "outputs": [],
   "source": [
    "N = nrow(df)\n",
    "@variable(model, x[1:N], Bin)"
   ]
  },
  {
   "cell_type": "markdown",
   "metadata": {},
   "source": [
    "### II. Formalizing the Objective\n",
    "\n",
    "We'll start with a basic objective, which is simply to maximize the average Player Efficiency Rating (PER) of the players on the selected team. We'll denote player $i$'s PER as $c_i$. We can then calculate the objective as:\n",
    "\n",
    "$$ \\frac{1}{N} \\sum_{i=1}^{N}(x_i*s_i)$$\n",
    "\n",
    "We can easily formulate this in JuMP:"
   ]
  },
  {
   "cell_type": "code",
   "execution_count": null,
   "metadata": {},
   "outputs": [],
   "source": [
    "s = df[!,:PER]\n",
    "@objective(model, Max, 1/12*sum(x[i]*s[i] for i=1:N));"
   ]
  },
  {
   "cell_type": "markdown",
   "metadata": {},
   "source": [
    "### III. Constructing the Constraints \n",
    "\n",
    "Now that we have defined our variables and quantified our goal, we need to specify what requirements any team must satisfy. Let's start by just placing a constraint on team size. "
   ]
  },
  {
   "cell_type": "code",
   "execution_count": null,
   "metadata": {},
   "outputs": [],
   "source": [
    "@constraint(model, sum(x[i] for i=1:N) == 12);"
   ]
  },
  {
   "cell_type": "markdown",
   "metadata": {},
   "source": [
    "### IV. Solving the Model\n",
    "We have specified the three key elements of any mixed-integer optimization model: \n",
    "- Decision Variables\n",
    "- Objective \n",
    "- Feasibility Constraints\n",
    "\n",
    "We're ready to solve the model!"
   ]
  },
  {
   "cell_type": "code",
   "execution_count": null,
   "metadata": {},
   "outputs": [],
   "source": [
    "optimize!(model);"
   ]
  },
  {
   "cell_type": "markdown",
   "metadata": {},
   "source": [
    "Let's see what our results look like: we can look at the values of our decision variables $x_1,\\ldots,x_N$ to see which indices were set to 1. These indices correspond to the players that were selected for the team."
   ]
  },
  {
   "cell_type": "code",
   "execution_count": null,
   "metadata": {},
   "outputs": [],
   "source": [
    "selection_indices = value.(x);"
   ]
  },
  {
   "cell_type": "code",
   "execution_count": null,
   "metadata": {
    "scrolled": false
   },
   "outputs": [],
   "source": [
    "selected_players = df[selection_indices.==1,:Player]"
   ]
  },
  {
   "cell_type": "code",
   "execution_count": null,
   "metadata": {},
   "outputs": [],
   "source": [
    "objective_value(model)"
   ]
  },
  {
   "cell_type": "markdown",
   "metadata": {},
   "source": [
    "How well does this match the list of finalists for the Olympics? "
   ]
  },
  {
   "cell_type": "code",
   "execution_count": null,
   "metadata": {},
   "outputs": [],
   "source": [
    "df[selection_indices.==1,[:Player,:Pos,:AllStar,:Olympics2016,:OlympicsFinalist]]"
   ]
  },
  {
   "cell_type": "markdown",
   "metadata": {},
   "source": [
    "## Making a More Realistic Team\n",
    "\n",
    "While this team is technically legal under Olympic regulations, it's not enough for us just to look at PER! We want to make sure that we have enough players of each position to fill out the team. We can add a few constraints to make a more useful team. "
   ]
  },
  {
   "cell_type": "code",
   "execution_count": null,
   "metadata": {},
   "outputs": [],
   "source": [
    "## Our original model\n",
    "model2 = Model(Cbc.Optimizer)\n",
    "@variable(model2, x[1:N], Bin)\n",
    "@objective(model2, Max, 1/12*sum(x[i]*df[i,:PER] for i=1:N));\n",
    "@constraint(model2, sum(x[i] for i=1:N) == 12);"
   ]
  },
  {
   "cell_type": "markdown",
   "metadata": {},
   "source": [
    "#### Position Requirements\n",
    "\n",
    "Suppose we want at least 4 guards, 4 forwards, and 3 centers. We first define indicators for each player's position. For example, to indicate which players are forwards, we define:\n",
    "\n",
    "\n",
    "$$\n",
    "    f_i=\\left\\{\n",
    "                \\begin{array}{ll}\n",
    "                  1 & \\text{if player $i$ is a forward,}\\\\\n",
    "                  0 & \\text{otherwise.}\n",
    "                \\end{array}\n",
    "              \\right.\n",
    "$$\n",
    "\n",
    "We can create similar variables $c_i$ and $g_i$ for center and guard positions. Note that this is **data**; these are not decision variables."
   ]
  },
  {
   "cell_type": "code",
   "execution_count": null,
   "metadata": {},
   "outputs": [],
   "source": [
    "c = ifelse.(df[!,:Pos].==\"C\",1,0);\n",
    "f = ifelse.((df[!,:Pos].==\"PF\").|(df[!,:Pos].==\"SF\"),1,0);\n",
    "g = ifelse.((df[!,:Pos].==\"PG\").|(df[!,:Pos].==\"SG\"),1,0);\n",
    "\n",
    "println(\"Center Count: \", sum(c))\n",
    "println(\"Forward Count: \", sum(f))\n",
    "println(\"Guard Count: \", sum(g))"
   ]
  },
  {
   "cell_type": "markdown",
   "metadata": {},
   "source": [
    "We can create constraints by summing the position indicator over the players who are selected for the team, like we did with the objective:\n",
    "\n",
    "$$ \\sum_{i=1}^{N}(f_i*x_i) \\geq 4$$\n",
    "\n",
    "We can do the same for the center and guard positions as well."
   ]
  },
  {
   "cell_type": "code",
   "execution_count": null,
   "metadata": {
    "scrolled": true
   },
   "outputs": [],
   "source": [
    "# Forward constraint\n",
    "@constraint(model2, sum(f[i]*x[i] for i=1:N) >= 4);\n",
    "\n",
    "# Center constraint\n",
    "@constraint(model2, sum(c[i]*x[i] for i=1:N) >= 3);\n",
    "\n",
    "# Guard constraint\n",
    "@constraint(model2, sum(g[i]*x[i] for i=1:N) >= 4);"
   ]
  },
  {
   "cell_type": "markdown",
   "metadata": {},
   "source": [
    "#### Defensive Ability\n",
    "We want to make sure that our team has good average defensive ability. One (imperfect!) way to measure this is using Defensive Box Plus/Minus (DBPM). We can require that the average DBPM of the chosen team is at least +1. \n",
    "\n",
    "\n",
    "$$ \\frac{1}{N} \\sum_{i=1}^{N}(d_i*x_i) \\geq 1$$\n",
    "\n",
    "where $d_i$ is player $i$'s DBPM. "
   ]
  },
  {
   "cell_type": "code",
   "execution_count": null,
   "metadata": {},
   "outputs": [],
   "source": [
    "d = df[!,:DBPM]\n",
    "@constraint(model2, 1/12 * sum(d[i]*x[i] for i=1:N) >= 1.0);"
   ]
  },
  {
   "cell_type": "markdown",
   "metadata": {},
   "source": [
    "#### Experience Constraints\n",
    "We also want to make sure our team has enough Olympics experience: let's add a constraint that at least 3 selected players were on the 2016 Olympic team.\n",
    "\n",
    "We use a similar syntax as before:\n",
    "\n",
    "$$ \\sum_{i=1}^{N}(o_i*x_i) \\geq 3 $$\n",
    "\n",
    "where $o_i = 1$ if player $i$ was on the 2016 Olympic team, and 0 otherwise. \n"
   ]
  },
  {
   "cell_type": "code",
   "execution_count": null,
   "metadata": {
    "scrolled": true
   },
   "outputs": [],
   "source": [
    "o = df[!,:AllStar]\n",
    "@constraint(model2, sum(o[i]*x[i] for i=1:N) >= 3);"
   ]
  },
  {
   "cell_type": "markdown",
   "metadata": {},
   "source": [
    "Let's solve our new model."
   ]
  },
  {
   "cell_type": "code",
   "execution_count": null,
   "metadata": {},
   "outputs": [],
   "source": [
    "set_silent(model2)\n",
    "optimize!(model2)"
   ]
  },
  {
   "cell_type": "code",
   "execution_count": null,
   "metadata": {
    "scrolled": false
   },
   "outputs": [],
   "source": [
    "selected_players2 = sort(df[value.(x).==1,:Player])"
   ]
  },
  {
   "cell_type": "markdown",
   "metadata": {},
   "source": [
    "If we compare to the original player list, we see that we have removed Montrezl Harrell (Center) and added Jimmy Butler (Forward)."
   ]
  },
  {
   "cell_type": "code",
   "execution_count": null,
   "metadata": {
    "scrolled": true
   },
   "outputs": [],
   "source": [
    "sort(selected_players)"
   ]
  },
  {
   "cell_type": "markdown",
   "metadata": {},
   "source": [
    "How good is our new model, according to our **objective function**?"
   ]
  },
  {
   "cell_type": "code",
   "execution_count": null,
   "metadata": {},
   "outputs": [],
   "source": [
    "objective_value(model2)"
   ]
  },
  {
   "cell_type": "markdown",
   "metadata": {},
   "source": [
    "This is < 0.1 worse than our original solution: even with these new constraints, we haven't lost much."
   ]
  },
  {
   "cell_type": "markdown",
   "metadata": {},
   "source": [
    "## Variations of Our Basic Model\n"
   ]
  },
  {
   "cell_type": "markdown",
   "metadata": {},
   "source": [
    "Before we experiment further, we can put our full model into a **function** that will let us easily modify the model for different objectives and datasets."
   ]
  },
  {
   "cell_type": "code",
   "execution_count": null,
   "metadata": {},
   "outputs": [],
   "source": [
    "function create_roster(df, objective_metric)\n",
    "    m = Model(Cbc.Optimizer)\n",
    "    set_silent(m)\n",
    "    \n",
    "    # Define variables\n",
    "    N = nrow(df)\n",
    "    @variable(m, x[1:N], Bin)\n",
    "    \n",
    "    # Define relevant data columns\n",
    "    c = ifelse.(df[!,:Pos].==\"C\",1,0);\n",
    "    f = ifelse.((df[!,:Pos].==\"PF\").|(df[!,:Pos].==\"SF\"),1,0);\n",
    "    g = ifelse.((df[!,:Pos].==\"PG\").|(df[!,:Pos].==\"SG\"),1,0);\n",
    "    d = df[!,:DBPM];\n",
    "    o = df[!,:AllStar];\n",
    "    \n",
    "    # Team size constraint\n",
    "    @constraint(m, sum(x[i] for i=1:N) == 12);\n",
    "    \n",
    "    # Position constraints\n",
    "    @constraint(m, sum(f[i]*x[i] for i=1:N) >= 4);\n",
    "    @constraint(m, sum(c[i]*x[i] for i=1:N) >= 3);\n",
    "    @constraint(m, sum(g[i]*x[i] for i=1:N) >= 4);\n",
    "\n",
    "    # Experience constraint\n",
    "    @constraint(m, sum(o[i]*x[i] for i=1:N) >= 3);\n",
    "\n",
    "    # Defensive ability constraint\n",
    "    @constraint(m, 1/12 * sum(d[i]*x[i] for i=1:N) >= 1);\n",
    "    \n",
    "    # Objective\n",
    "    @objective(m, Max, 1/12 * sum(x[i]*df[i,objective_metric] for i=1:N))\n",
    "    \n",
    "    optimize!(m)\n",
    "    \n",
    "    players = sort(df[value.(x).>0.99,:Player])\n",
    "    return(objective_value(m), players)\n",
    "end"
   ]
  },
  {
   "cell_type": "markdown",
   "metadata": {},
   "source": [
    "Now, it is easy for us to build models for different objective functions. We simply have to specify our dataset of interest and the column of the metric that we want to maximize."
   ]
  },
  {
   "cell_type": "markdown",
   "metadata": {},
   "source": [
    "#### Alternative Objective Functions\n",
    "\n",
    "We chose to optimize average PER, but we could have chosen other metrics too. How does our team composition change when we use other measures of player performance? "
   ]
  },
  {
   "cell_type": "code",
   "execution_count": null,
   "metadata": {
    "scrolled": true
   },
   "outputs": [],
   "source": [
    "obj_per, players_per = create_roster(df,:PER);\n",
    "obj_bpm, players_bpm = create_roster(df,:BPM);\n",
    "obj_ws48, players_ws48 = create_roster(df,:WS_48);"
   ]
  },
  {
   "cell_type": "markdown",
   "metadata": {},
   "source": [
    "#### How different is the playoff perspective?  \n",
    "\n",
    "Now let's repeat the model (with the original PER objective), but using data from the past two playoff seasons instead. We're looking at average playoff statistics for all active US-born NBA players."
   ]
  },
  {
   "cell_type": "code",
   "execution_count": null,
   "metadata": {
    "scrolled": true
   },
   "outputs": [],
   "source": [
    "df_playoffs = CSV.read(\"NBA_data_playoffs_2017_2019.csv\");\n",
    "first(df_playoffs,10)"
   ]
  },
  {
   "cell_type": "markdown",
   "metadata": {},
   "source": [
    "We can leverage the same function, but now we want to speficy a new dataset, **df_playoffs**, rather than the original dataset **df**."
   ]
  },
  {
   "cell_type": "code",
   "execution_count": null,
   "metadata": {},
   "outputs": [],
   "source": [
    "obj_playoff, players_playoff = create_roster(df_playoffs,:PER);\n",
    "players_playoff"
   ]
  },
  {
   "cell_type": "markdown",
   "metadata": {},
   "source": [
    "We can create a table to compare how much these different lists overlap. We can also add a column commparing the  "
   ]
  },
  {
   "cell_type": "code",
   "execution_count": null,
   "metadata": {
    "scrolled": false
   },
   "outputs": [],
   "source": [
    "player_compare = join(DataFrame(Player = players_per, PER = 1), \n",
    "    DataFrame(Player = players_bpm, BPM = 1),\n",
    "    DataFrame(Player = players_ws48, WS_48 = 1), \n",
    "    DataFrame(Player = players_playoff, PER_PLAYOFF = 1),\n",
    "    kind = :outer, on = :Player)\n",
    "\n",
    "sort(player_compare)"
   ]
  },
  {
   "cell_type": "code",
   "execution_count": null,
   "metadata": {},
   "outputs": [],
   "source": [
    "# Pull a dataset of the olympic finalists\n",
    "olympics_finalists = unique(df[df[!,:OlympicsFinalist].==1,[:Player,:OlympicsFinalist]])\n",
    "\n",
    "sort(join(player_compare, olympics_finalists, on = :Player, kind = :left))"
   ]
  },
  {
   "cell_type": "markdown",
   "metadata": {},
   "source": [
    "Anthony Davis, James Harden, Kawhi Leonard, and Lebron James are chosen in every variation of our model. Certain players only appear when we look at playoff statistics (e.g. Chris Paul, Draymond Green), while others look better when we focus on the regular season (e.g. Jimmy Butler)."
   ]
  }
 ],
 "metadata": {
  "kernelspec": {
   "display_name": "Julia 1.3.1",
   "language": "julia",
   "name": "julia-1.3"
  },
  "language_info": {
   "file_extension": ".jl",
   "mimetype": "application/julia",
   "name": "julia",
   "version": "1.3.1"
  }
 },
 "nbformat": 4,
 "nbformat_minor": 2
}
